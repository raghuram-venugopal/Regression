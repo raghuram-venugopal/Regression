{
 "cells": [
  {
   "cell_type": "code",
   "execution_count": 1,
   "metadata": {},
   "outputs": [],
   "source": [
    "import numpy as np\n",
    "import pandas as pd\n",
    "import seaborn as sns\n",
    "import matplotlib.pyplot as plt"
   ]
  },
  {
   "cell_type": "code",
   "execution_count": 2,
   "metadata": {},
   "outputs": [],
   "source": [
    "house_df = pd.read_csv(\"train.csv\")"
   ]
  },
  {
   "cell_type": "code",
   "execution_count": 3,
   "metadata": {},
   "outputs": [
    {
     "data": {
      "text/plain": [
       "(1460, 81)"
      ]
     },
     "execution_count": 3,
     "metadata": {},
     "output_type": "execute_result"
    }
   ],
   "source": [
    "house_df.shape"
   ]
  },
  {
   "cell_type": "code",
   "execution_count": 4,
   "metadata": {},
   "outputs": [
    {
     "data": {
      "text/html": [
       "<div>\n",
       "<style scoped>\n",
       "    .dataframe tbody tr th:only-of-type {\n",
       "        vertical-align: middle;\n",
       "    }\n",
       "\n",
       "    .dataframe tbody tr th {\n",
       "        vertical-align: top;\n",
       "    }\n",
       "\n",
       "    .dataframe thead th {\n",
       "        text-align: right;\n",
       "    }\n",
       "</style>\n",
       "<table border=\"1\" class=\"dataframe\">\n",
       "  <thead>\n",
       "    <tr style=\"text-align: right;\">\n",
       "      <th></th>\n",
       "      <th>Id</th>\n",
       "      <th>MSSubClass</th>\n",
       "      <th>MSZoning</th>\n",
       "      <th>LotFrontage</th>\n",
       "      <th>LotArea</th>\n",
       "      <th>Street</th>\n",
       "      <th>Alley</th>\n",
       "      <th>LotShape</th>\n",
       "      <th>LandContour</th>\n",
       "      <th>Utilities</th>\n",
       "      <th>...</th>\n",
       "      <th>PoolArea</th>\n",
       "      <th>PoolQC</th>\n",
       "      <th>Fence</th>\n",
       "      <th>MiscFeature</th>\n",
       "      <th>MiscVal</th>\n",
       "      <th>MoSold</th>\n",
       "      <th>YrSold</th>\n",
       "      <th>SaleType</th>\n",
       "      <th>SaleCondition</th>\n",
       "      <th>SalePrice</th>\n",
       "    </tr>\n",
       "  </thead>\n",
       "  <tbody>\n",
       "    <tr>\n",
       "      <th>0</th>\n",
       "      <td>1</td>\n",
       "      <td>60</td>\n",
       "      <td>RL</td>\n",
       "      <td>65.0</td>\n",
       "      <td>8450</td>\n",
       "      <td>Pave</td>\n",
       "      <td>NaN</td>\n",
       "      <td>Reg</td>\n",
       "      <td>Lvl</td>\n",
       "      <td>AllPub</td>\n",
       "      <td>...</td>\n",
       "      <td>0</td>\n",
       "      <td>NaN</td>\n",
       "      <td>NaN</td>\n",
       "      <td>NaN</td>\n",
       "      <td>0</td>\n",
       "      <td>2</td>\n",
       "      <td>2008</td>\n",
       "      <td>WD</td>\n",
       "      <td>Normal</td>\n",
       "      <td>208500</td>\n",
       "    </tr>\n",
       "    <tr>\n",
       "      <th>1</th>\n",
       "      <td>2</td>\n",
       "      <td>20</td>\n",
       "      <td>RL</td>\n",
       "      <td>80.0</td>\n",
       "      <td>9600</td>\n",
       "      <td>Pave</td>\n",
       "      <td>NaN</td>\n",
       "      <td>Reg</td>\n",
       "      <td>Lvl</td>\n",
       "      <td>AllPub</td>\n",
       "      <td>...</td>\n",
       "      <td>0</td>\n",
       "      <td>NaN</td>\n",
       "      <td>NaN</td>\n",
       "      <td>NaN</td>\n",
       "      <td>0</td>\n",
       "      <td>5</td>\n",
       "      <td>2007</td>\n",
       "      <td>WD</td>\n",
       "      <td>Normal</td>\n",
       "      <td>181500</td>\n",
       "    </tr>\n",
       "    <tr>\n",
       "      <th>2</th>\n",
       "      <td>3</td>\n",
       "      <td>60</td>\n",
       "      <td>RL</td>\n",
       "      <td>68.0</td>\n",
       "      <td>11250</td>\n",
       "      <td>Pave</td>\n",
       "      <td>NaN</td>\n",
       "      <td>IR1</td>\n",
       "      <td>Lvl</td>\n",
       "      <td>AllPub</td>\n",
       "      <td>...</td>\n",
       "      <td>0</td>\n",
       "      <td>NaN</td>\n",
       "      <td>NaN</td>\n",
       "      <td>NaN</td>\n",
       "      <td>0</td>\n",
       "      <td>9</td>\n",
       "      <td>2008</td>\n",
       "      <td>WD</td>\n",
       "      <td>Normal</td>\n",
       "      <td>223500</td>\n",
       "    </tr>\n",
       "    <tr>\n",
       "      <th>3</th>\n",
       "      <td>4</td>\n",
       "      <td>70</td>\n",
       "      <td>RL</td>\n",
       "      <td>60.0</td>\n",
       "      <td>9550</td>\n",
       "      <td>Pave</td>\n",
       "      <td>NaN</td>\n",
       "      <td>IR1</td>\n",
       "      <td>Lvl</td>\n",
       "      <td>AllPub</td>\n",
       "      <td>...</td>\n",
       "      <td>0</td>\n",
       "      <td>NaN</td>\n",
       "      <td>NaN</td>\n",
       "      <td>NaN</td>\n",
       "      <td>0</td>\n",
       "      <td>2</td>\n",
       "      <td>2006</td>\n",
       "      <td>WD</td>\n",
       "      <td>Abnorml</td>\n",
       "      <td>140000</td>\n",
       "    </tr>\n",
       "    <tr>\n",
       "      <th>4</th>\n",
       "      <td>5</td>\n",
       "      <td>60</td>\n",
       "      <td>RL</td>\n",
       "      <td>84.0</td>\n",
       "      <td>14260</td>\n",
       "      <td>Pave</td>\n",
       "      <td>NaN</td>\n",
       "      <td>IR1</td>\n",
       "      <td>Lvl</td>\n",
       "      <td>AllPub</td>\n",
       "      <td>...</td>\n",
       "      <td>0</td>\n",
       "      <td>NaN</td>\n",
       "      <td>NaN</td>\n",
       "      <td>NaN</td>\n",
       "      <td>0</td>\n",
       "      <td>12</td>\n",
       "      <td>2008</td>\n",
       "      <td>WD</td>\n",
       "      <td>Normal</td>\n",
       "      <td>250000</td>\n",
       "    </tr>\n",
       "  </tbody>\n",
       "</table>\n",
       "<p>5 rows × 81 columns</p>\n",
       "</div>"
      ],
      "text/plain": [
       "   Id  MSSubClass MSZoning  LotFrontage  LotArea Street Alley LotShape  \\\n",
       "0   1          60       RL         65.0     8450   Pave   NaN      Reg   \n",
       "1   2          20       RL         80.0     9600   Pave   NaN      Reg   \n",
       "2   3          60       RL         68.0    11250   Pave   NaN      IR1   \n",
       "3   4          70       RL         60.0     9550   Pave   NaN      IR1   \n",
       "4   5          60       RL         84.0    14260   Pave   NaN      IR1   \n",
       "\n",
       "  LandContour Utilities  ... PoolArea PoolQC Fence MiscFeature MiscVal MoSold  \\\n",
       "0         Lvl    AllPub  ...        0    NaN   NaN         NaN       0      2   \n",
       "1         Lvl    AllPub  ...        0    NaN   NaN         NaN       0      5   \n",
       "2         Lvl    AllPub  ...        0    NaN   NaN         NaN       0      9   \n",
       "3         Lvl    AllPub  ...        0    NaN   NaN         NaN       0      2   \n",
       "4         Lvl    AllPub  ...        0    NaN   NaN         NaN       0     12   \n",
       "\n",
       "  YrSold  SaleType  SaleCondition  SalePrice  \n",
       "0   2008        WD         Normal     208500  \n",
       "1   2007        WD         Normal     181500  \n",
       "2   2008        WD         Normal     223500  \n",
       "3   2006        WD        Abnorml     140000  \n",
       "4   2008        WD         Normal     250000  \n",
       "\n",
       "[5 rows x 81 columns]"
      ]
     },
     "execution_count": 4,
     "metadata": {},
     "output_type": "execute_result"
    }
   ],
   "source": [
    "house_df.head()\n",
    "#pd.set_option(\"max_columns\",None)"
   ]
  },
  {
   "cell_type": "code",
   "execution_count": 5,
   "metadata": {},
   "outputs": [
    {
     "data": {
      "text/html": [
       "<div>\n",
       "<style scoped>\n",
       "    .dataframe tbody tr th:only-of-type {\n",
       "        vertical-align: middle;\n",
       "    }\n",
       "\n",
       "    .dataframe tbody tr th {\n",
       "        vertical-align: top;\n",
       "    }\n",
       "\n",
       "    .dataframe thead th {\n",
       "        text-align: right;\n",
       "    }\n",
       "</style>\n",
       "<table border=\"1\" class=\"dataframe\">\n",
       "  <thead>\n",
       "    <tr style=\"text-align: right;\">\n",
       "      <th></th>\n",
       "      <th>Id</th>\n",
       "      <th>MSSubClass</th>\n",
       "      <th>MSZoning</th>\n",
       "      <th>LotFrontage</th>\n",
       "      <th>LotArea</th>\n",
       "      <th>Street</th>\n",
       "      <th>Alley</th>\n",
       "      <th>LotShape</th>\n",
       "      <th>LandContour</th>\n",
       "      <th>Utilities</th>\n",
       "      <th>...</th>\n",
       "      <th>PoolArea</th>\n",
       "      <th>PoolQC</th>\n",
       "      <th>Fence</th>\n",
       "      <th>MiscFeature</th>\n",
       "      <th>MiscVal</th>\n",
       "      <th>MoSold</th>\n",
       "      <th>YrSold</th>\n",
       "      <th>SaleType</th>\n",
       "      <th>SaleCondition</th>\n",
       "      <th>SalePrice</th>\n",
       "    </tr>\n",
       "  </thead>\n",
       "  <tbody>\n",
       "    <tr>\n",
       "      <th>1455</th>\n",
       "      <td>1456</td>\n",
       "      <td>60</td>\n",
       "      <td>RL</td>\n",
       "      <td>62.0</td>\n",
       "      <td>7917</td>\n",
       "      <td>Pave</td>\n",
       "      <td>NaN</td>\n",
       "      <td>Reg</td>\n",
       "      <td>Lvl</td>\n",
       "      <td>AllPub</td>\n",
       "      <td>...</td>\n",
       "      <td>0</td>\n",
       "      <td>NaN</td>\n",
       "      <td>NaN</td>\n",
       "      <td>NaN</td>\n",
       "      <td>0</td>\n",
       "      <td>8</td>\n",
       "      <td>2007</td>\n",
       "      <td>WD</td>\n",
       "      <td>Normal</td>\n",
       "      <td>175000</td>\n",
       "    </tr>\n",
       "    <tr>\n",
       "      <th>1456</th>\n",
       "      <td>1457</td>\n",
       "      <td>20</td>\n",
       "      <td>RL</td>\n",
       "      <td>85.0</td>\n",
       "      <td>13175</td>\n",
       "      <td>Pave</td>\n",
       "      <td>NaN</td>\n",
       "      <td>Reg</td>\n",
       "      <td>Lvl</td>\n",
       "      <td>AllPub</td>\n",
       "      <td>...</td>\n",
       "      <td>0</td>\n",
       "      <td>NaN</td>\n",
       "      <td>MnPrv</td>\n",
       "      <td>NaN</td>\n",
       "      <td>0</td>\n",
       "      <td>2</td>\n",
       "      <td>2010</td>\n",
       "      <td>WD</td>\n",
       "      <td>Normal</td>\n",
       "      <td>210000</td>\n",
       "    </tr>\n",
       "    <tr>\n",
       "      <th>1457</th>\n",
       "      <td>1458</td>\n",
       "      <td>70</td>\n",
       "      <td>RL</td>\n",
       "      <td>66.0</td>\n",
       "      <td>9042</td>\n",
       "      <td>Pave</td>\n",
       "      <td>NaN</td>\n",
       "      <td>Reg</td>\n",
       "      <td>Lvl</td>\n",
       "      <td>AllPub</td>\n",
       "      <td>...</td>\n",
       "      <td>0</td>\n",
       "      <td>NaN</td>\n",
       "      <td>GdPrv</td>\n",
       "      <td>Shed</td>\n",
       "      <td>2500</td>\n",
       "      <td>5</td>\n",
       "      <td>2010</td>\n",
       "      <td>WD</td>\n",
       "      <td>Normal</td>\n",
       "      <td>266500</td>\n",
       "    </tr>\n",
       "    <tr>\n",
       "      <th>1458</th>\n",
       "      <td>1459</td>\n",
       "      <td>20</td>\n",
       "      <td>RL</td>\n",
       "      <td>68.0</td>\n",
       "      <td>9717</td>\n",
       "      <td>Pave</td>\n",
       "      <td>NaN</td>\n",
       "      <td>Reg</td>\n",
       "      <td>Lvl</td>\n",
       "      <td>AllPub</td>\n",
       "      <td>...</td>\n",
       "      <td>0</td>\n",
       "      <td>NaN</td>\n",
       "      <td>NaN</td>\n",
       "      <td>NaN</td>\n",
       "      <td>0</td>\n",
       "      <td>4</td>\n",
       "      <td>2010</td>\n",
       "      <td>WD</td>\n",
       "      <td>Normal</td>\n",
       "      <td>142125</td>\n",
       "    </tr>\n",
       "    <tr>\n",
       "      <th>1459</th>\n",
       "      <td>1460</td>\n",
       "      <td>20</td>\n",
       "      <td>RL</td>\n",
       "      <td>75.0</td>\n",
       "      <td>9937</td>\n",
       "      <td>Pave</td>\n",
       "      <td>NaN</td>\n",
       "      <td>Reg</td>\n",
       "      <td>Lvl</td>\n",
       "      <td>AllPub</td>\n",
       "      <td>...</td>\n",
       "      <td>0</td>\n",
       "      <td>NaN</td>\n",
       "      <td>NaN</td>\n",
       "      <td>NaN</td>\n",
       "      <td>0</td>\n",
       "      <td>6</td>\n",
       "      <td>2008</td>\n",
       "      <td>WD</td>\n",
       "      <td>Normal</td>\n",
       "      <td>147500</td>\n",
       "    </tr>\n",
       "  </tbody>\n",
       "</table>\n",
       "<p>5 rows × 81 columns</p>\n",
       "</div>"
      ],
      "text/plain": [
       "        Id  MSSubClass MSZoning  LotFrontage  LotArea Street Alley LotShape  \\\n",
       "1455  1456          60       RL         62.0     7917   Pave   NaN      Reg   \n",
       "1456  1457          20       RL         85.0    13175   Pave   NaN      Reg   \n",
       "1457  1458          70       RL         66.0     9042   Pave   NaN      Reg   \n",
       "1458  1459          20       RL         68.0     9717   Pave   NaN      Reg   \n",
       "1459  1460          20       RL         75.0     9937   Pave   NaN      Reg   \n",
       "\n",
       "     LandContour Utilities  ... PoolArea PoolQC  Fence MiscFeature MiscVal  \\\n",
       "1455         Lvl    AllPub  ...        0    NaN    NaN         NaN       0   \n",
       "1456         Lvl    AllPub  ...        0    NaN  MnPrv         NaN       0   \n",
       "1457         Lvl    AllPub  ...        0    NaN  GdPrv        Shed    2500   \n",
       "1458         Lvl    AllPub  ...        0    NaN    NaN         NaN       0   \n",
       "1459         Lvl    AllPub  ...        0    NaN    NaN         NaN       0   \n",
       "\n",
       "     MoSold YrSold  SaleType  SaleCondition  SalePrice  \n",
       "1455      8   2007        WD         Normal     175000  \n",
       "1456      2   2010        WD         Normal     210000  \n",
       "1457      5   2010        WD         Normal     266500  \n",
       "1458      4   2010        WD         Normal     142125  \n",
       "1459      6   2008        WD         Normal     147500  \n",
       "\n",
       "[5 rows x 81 columns]"
      ]
     },
     "execution_count": 5,
     "metadata": {},
     "output_type": "execute_result"
    }
   ],
   "source": [
    "house_df.tail()"
   ]
  },
  {
   "cell_type": "code",
   "execution_count": 6,
   "metadata": {},
   "outputs": [],
   "source": [
    "from sklearn.model_selection import ShuffleSplit\n",
    "\n",
    "shuffleSplit = ShuffleSplit(n_splits=1, train_size=0.8, random_state=66)\n",
    "for train_index, test_index in shuffleSplit.split(house_df):\n",
    "    train_set = house_df.loc[train_index]\n",
    "    test_set = house_df.loc[test_index]"
   ]
  },
  {
   "cell_type": "code",
   "execution_count": 7,
   "metadata": {},
   "outputs": [
    {
     "data": {
      "text/plain": [
       "array([ True,  True,  True,  True,  True,  True,  True,  True,  True,\n",
       "        True,  True,  True,  True,  True,  True,  True,  True,  True,\n",
       "        True,  True,  True,  True,  True,  True,  True,  True,  True,\n",
       "        True,  True,  True,  True,  True,  True,  True,  True,  True,\n",
       "        True,  True,  True,  True,  True,  True,  True,  True,  True,\n",
       "        True,  True,  True,  True,  True,  True,  True,  True,  True,\n",
       "        True,  True,  True,  True,  True,  True,  True,  True,  True,\n",
       "        True,  True,  True,  True,  True,  True,  True,  True,  True,\n",
       "        True,  True,  True,  True,  True,  True,  True,  True,  True])"
      ]
     },
     "execution_count": 7,
     "metadata": {},
     "output_type": "execute_result"
    }
   ],
   "source": [
    "#Columns Order Check\n",
    "train_set.columns == test_set.columns"
   ]
  },
  {
   "cell_type": "code",
   "execution_count": 8,
   "metadata": {},
   "outputs": [],
   "source": [
    "#EDA\n",
    "train_set.drop(['Id'],axis=1,inplace=True)"
   ]
  },
  {
   "cell_type": "code",
   "execution_count": 9,
   "metadata": {},
   "outputs": [
    {
     "data": {
      "text/plain": [
       "(1168, 80)"
      ]
     },
     "execution_count": 9,
     "metadata": {},
     "output_type": "execute_result"
    }
   ],
   "source": [
    "train_set.shape"
   ]
  },
  {
   "cell_type": "code",
   "execution_count": 10,
   "metadata": {},
   "outputs": [
    {
     "data": {
      "text/plain": [
       "object     43\n",
       "int64      34\n",
       "float64     3\n",
       "dtype: int64"
      ]
     },
     "execution_count": 10,
     "metadata": {},
     "output_type": "execute_result"
    }
   ],
   "source": [
    "#Checking datatype counts\n",
    "train_set.dtypes.value_counts()"
   ]
  },
  {
   "cell_type": "code",
   "execution_count": 11,
   "metadata": {},
   "outputs": [
    {
     "data": {
      "text/plain": [
       "SalePrice    int64\n",
       "dtype: object"
      ]
     },
     "execution_count": 11,
     "metadata": {},
     "output_type": "execute_result"
    }
   ],
   "source": [
    "#EDA\n",
    "target = pd.DataFrame(train_set['SalePrice'])\n",
    "target.dtypes"
   ]
  },
  {
   "cell_type": "code",
   "execution_count": 12,
   "metadata": {},
   "outputs": [],
   "source": [
    "#EDA\n",
    "independent_df = train_set.drop('SalePrice',axis=1)"
   ]
  },
  {
   "cell_type": "code",
   "execution_count": 13,
   "metadata": {},
   "outputs": [
    {
     "data": {
      "text/plain": [
       "object     43\n",
       "int64      33\n",
       "float64     3\n",
       "dtype: int64"
      ]
     },
     "execution_count": 13,
     "metadata": {},
     "output_type": "execute_result"
    }
   ],
   "source": [
    "independent_df.dtypes.value_counts()"
   ]
  },
  {
   "cell_type": "code",
   "execution_count": 14,
   "metadata": {},
   "outputs": [
    {
     "data": {
      "text/plain": [
       "PoolQC         1162\n",
       "MiscFeature    1119\n",
       "Alley          1096\n",
       "Fence           941\n",
       "FireplaceQu     540\n",
       "               ... \n",
       "LotShape          0\n",
       "Street            0\n",
       "LotArea           0\n",
       "MSZoning          0\n",
       "MSSubClass        0\n",
       "Length: 79, dtype: int64"
      ]
     },
     "execution_count": 14,
     "metadata": {},
     "output_type": "execute_result"
    }
   ],
   "source": [
    "independent_df.isnull().sum().sort_values(ascending=False,kind='mergesort')"
   ]
  },
  {
   "cell_type": "code",
   "execution_count": 15,
   "metadata": {},
   "outputs": [
    {
     "name": "stdout",
     "output_type": "stream",
     "text": [
      "(1168, 74)\n",
      "Index(['Alley', 'Fence', 'FireplaceQu', 'MiscFeature', 'PoolQC'], dtype='object')\n"
     ]
    }
   ],
   "source": [
    "#Finding columns which have more than 60% missing values\n",
    "empty_df = independent_df.dropna(axis=1,thresh=(len(independent_df) * 0.6))\n",
    "print(empty_df.shape)\n",
    "print(independent_df.columns.difference(empty_df.columns))\n",
    "\n",
    "#To save memory removing irrelavent variables\n",
    "empty_df = None"
   ]
  },
  {
   "cell_type": "code",
   "execution_count": 16,
   "metadata": {},
   "outputs": [
    {
     "data": {
      "text/plain": [
       "(1168, 74)"
      ]
     },
     "execution_count": 16,
     "metadata": {},
     "output_type": "execute_result"
    }
   ],
   "source": [
    "#EDA\n",
    "#Removing columns which have more than 60% missing values\n",
    "independent_df.drop(labels=['Alley', 'Fence', 'FireplaceQu', 'MiscFeature', 'PoolQC'],axis=1,inplace=True)\n",
    "independent_df.shape"
   ]
  },
  {
   "cell_type": "code",
   "execution_count": 17,
   "metadata": {},
   "outputs": [
    {
     "data": {
      "text/plain": [
       "LotFrontage     209\n",
       "GarageFinish     66\n",
       "GarageType       66\n",
       "GarageCond       66\n",
       "GarageQual       66\n",
       "               ... \n",
       "CentralAir        0\n",
       "HeatingQC         0\n",
       "Heating           0\n",
       "SaleType          0\n",
       "MSSubClass        0\n",
       "Length: 74, dtype: int64"
      ]
     },
     "execution_count": 17,
     "metadata": {},
     "output_type": "execute_result"
    }
   ],
   "source": [
    "independent_df.isnull().sum().sort_values(ascending=False)"
   ]
  },
  {
   "cell_type": "code",
   "execution_count": 18,
   "metadata": {},
   "outputs": [
    {
     "name": "stdout",
     "output_type": "stream",
     "text": [
      "['Street', 'LandContour', 'Utilities', 'LandSlope', 'Condition1', 'Condition2', 'RoofMatl', 'ExterCond', 'BsmtCond', 'BsmtFinType2', 'BsmtFinSF2', 'Heating', 'CentralAir', 'Electrical', 'LowQualFinSF', 'BsmtHalfBath', 'KitchenAbvGr', 'Functional', 'GarageQual', 'GarageCond', 'PavedDrive', 'EnclosedPorch', '3SsnPorch', 'ScreenPorch', 'PoolArea', 'MiscVal', 'SaleType']\n"
     ]
    }
   ],
   "source": [
    "#EDA\n",
    "#Removing 85% low variance constant columns\n",
    "low_var_col = []\n",
    "for colname,colvalues in independent_df.items():\n",
    "    column_count = colvalues.value_counts()[abs(colvalues.value_counts(normalize=True)) > 0.85].count()\n",
    "    if column_count == 1:\n",
    "        low_var_col.append(colname)\n",
    "        independent_df.drop(colname, axis=1,inplace=True)\n",
    "        \n",
    "print(low_var_col)"
   ]
  },
  {
   "cell_type": "code",
   "execution_count": 19,
   "metadata": {},
   "outputs": [
    {
     "data": {
      "text/plain": [
       "(1168, 47)"
      ]
     },
     "execution_count": 19,
     "metadata": {},
     "output_type": "execute_result"
    }
   ],
   "source": [
    "independent_df.shape"
   ]
  },
  {
   "cell_type": "code",
   "execution_count": 20,
   "metadata": {},
   "outputs": [
    {
     "name": "stdout",
     "output_type": "stream",
     "text": [
      "Numerical Data Types 27\n",
      "Categorical Datatypes 20\n"
     ]
    }
   ],
   "source": [
    "#EDA\n",
    "numerical_df = pd.DataFrame(independent_df.select_dtypes(exclude='object'))\n",
    "categorical_df = pd.DataFrame(independent_df.select_dtypes(include='object'))\n",
    "print(\"Numerical Data Types \" + str(numerical_df.dtypes.value_counts().sum()))\n",
    "print(\"Categorical Datatypes \" + str(categorical_df.dtypes.value_counts().sum()))"
   ]
  },
  {
   "cell_type": "code",
   "execution_count": 21,
   "metadata": {},
   "outputs": [
    {
     "data": {
      "text/html": [
       "<div>\n",
       "<style scoped>\n",
       "    .dataframe tbody tr th:only-of-type {\n",
       "        vertical-align: middle;\n",
       "    }\n",
       "\n",
       "    .dataframe tbody tr th {\n",
       "        vertical-align: top;\n",
       "    }\n",
       "\n",
       "    .dataframe thead th {\n",
       "        text-align: right;\n",
       "    }\n",
       "</style>\n",
       "<table border=\"1\" class=\"dataframe\">\n",
       "  <thead>\n",
       "    <tr style=\"text-align: right;\">\n",
       "      <th></th>\n",
       "      <th>MSSubClass</th>\n",
       "      <th>LotFrontage</th>\n",
       "      <th>LotArea</th>\n",
       "      <th>OverallQual</th>\n",
       "      <th>OverallCond</th>\n",
       "      <th>YearBuilt</th>\n",
       "      <th>YearRemodAdd</th>\n",
       "      <th>MasVnrArea</th>\n",
       "      <th>BsmtFinSF1</th>\n",
       "      <th>BsmtUnfSF</th>\n",
       "      <th>...</th>\n",
       "      <th>BedroomAbvGr</th>\n",
       "      <th>TotRmsAbvGrd</th>\n",
       "      <th>Fireplaces</th>\n",
       "      <th>GarageYrBlt</th>\n",
       "      <th>GarageCars</th>\n",
       "      <th>GarageArea</th>\n",
       "      <th>WoodDeckSF</th>\n",
       "      <th>OpenPorchSF</th>\n",
       "      <th>MoSold</th>\n",
       "      <th>YrSold</th>\n",
       "    </tr>\n",
       "  </thead>\n",
       "  <tbody>\n",
       "    <tr>\n",
       "      <th>1159</th>\n",
       "      <td>60</td>\n",
       "      <td>76.0</td>\n",
       "      <td>9120</td>\n",
       "      <td>6</td>\n",
       "      <td>6</td>\n",
       "      <td>1974</td>\n",
       "      <td>1974</td>\n",
       "      <td>270.0</td>\n",
       "      <td>442</td>\n",
       "      <td>459</td>\n",
       "      <td>...</td>\n",
       "      <td>4</td>\n",
       "      <td>8</td>\n",
       "      <td>1</td>\n",
       "      <td>1974.0</td>\n",
       "      <td>2</td>\n",
       "      <td>540</td>\n",
       "      <td>0</td>\n",
       "      <td>69</td>\n",
       "      <td>7</td>\n",
       "      <td>2008</td>\n",
       "    </tr>\n",
       "    <tr>\n",
       "      <th>1299</th>\n",
       "      <td>20</td>\n",
       "      <td>75.0</td>\n",
       "      <td>7500</td>\n",
       "      <td>5</td>\n",
       "      <td>7</td>\n",
       "      <td>1959</td>\n",
       "      <td>1994</td>\n",
       "      <td>0.0</td>\n",
       "      <td>340</td>\n",
       "      <td>0</td>\n",
       "      <td>...</td>\n",
       "      <td>3</td>\n",
       "      <td>6</td>\n",
       "      <td>0</td>\n",
       "      <td>1959.0</td>\n",
       "      <td>1</td>\n",
       "      <td>305</td>\n",
       "      <td>218</td>\n",
       "      <td>0</td>\n",
       "      <td>5</td>\n",
       "      <td>2010</td>\n",
       "    </tr>\n",
       "    <tr>\n",
       "      <th>1160</th>\n",
       "      <td>160</td>\n",
       "      <td>24.0</td>\n",
       "      <td>2280</td>\n",
       "      <td>6</td>\n",
       "      <td>5</td>\n",
       "      <td>1978</td>\n",
       "      <td>1978</td>\n",
       "      <td>0.0</td>\n",
       "      <td>311</td>\n",
       "      <td>544</td>\n",
       "      <td>...</td>\n",
       "      <td>3</td>\n",
       "      <td>7</td>\n",
       "      <td>1</td>\n",
       "      <td>1978.0</td>\n",
       "      <td>2</td>\n",
       "      <td>440</td>\n",
       "      <td>26</td>\n",
       "      <td>0</td>\n",
       "      <td>7</td>\n",
       "      <td>2010</td>\n",
       "    </tr>\n",
       "    <tr>\n",
       "      <th>981</th>\n",
       "      <td>60</td>\n",
       "      <td>98.0</td>\n",
       "      <td>12203</td>\n",
       "      <td>8</td>\n",
       "      <td>5</td>\n",
       "      <td>1998</td>\n",
       "      <td>1999</td>\n",
       "      <td>975.0</td>\n",
       "      <td>854</td>\n",
       "      <td>371</td>\n",
       "      <td>...</td>\n",
       "      <td>4</td>\n",
       "      <td>8</td>\n",
       "      <td>1</td>\n",
       "      <td>1998.0</td>\n",
       "      <td>3</td>\n",
       "      <td>676</td>\n",
       "      <td>250</td>\n",
       "      <td>0</td>\n",
       "      <td>7</td>\n",
       "      <td>2009</td>\n",
       "    </tr>\n",
       "    <tr>\n",
       "      <th>685</th>\n",
       "      <td>160</td>\n",
       "      <td>NaN</td>\n",
       "      <td>5062</td>\n",
       "      <td>7</td>\n",
       "      <td>5</td>\n",
       "      <td>1984</td>\n",
       "      <td>1984</td>\n",
       "      <td>0.0</td>\n",
       "      <td>828</td>\n",
       "      <td>180</td>\n",
       "      <td>...</td>\n",
       "      <td>3</td>\n",
       "      <td>6</td>\n",
       "      <td>1</td>\n",
       "      <td>1984.0</td>\n",
       "      <td>2</td>\n",
       "      <td>577</td>\n",
       "      <td>219</td>\n",
       "      <td>0</td>\n",
       "      <td>9</td>\n",
       "      <td>2007</td>\n",
       "    </tr>\n",
       "  </tbody>\n",
       "</table>\n",
       "<p>5 rows × 27 columns</p>\n",
       "</div>"
      ],
      "text/plain": [
       "      MSSubClass  LotFrontage  LotArea  OverallQual  OverallCond  YearBuilt  \\\n",
       "1159          60         76.0     9120            6            6       1974   \n",
       "1299          20         75.0     7500            5            7       1959   \n",
       "1160         160         24.0     2280            6            5       1978   \n",
       "981           60         98.0    12203            8            5       1998   \n",
       "685          160          NaN     5062            7            5       1984   \n",
       "\n",
       "      YearRemodAdd  MasVnrArea  BsmtFinSF1  BsmtUnfSF  ...  BedroomAbvGr  \\\n",
       "1159          1974       270.0         442        459  ...             4   \n",
       "1299          1994         0.0         340          0  ...             3   \n",
       "1160          1978         0.0         311        544  ...             3   \n",
       "981           1999       975.0         854        371  ...             4   \n",
       "685           1984         0.0         828        180  ...             3   \n",
       "\n",
       "      TotRmsAbvGrd  Fireplaces  GarageYrBlt  GarageCars  GarageArea  \\\n",
       "1159             8           1       1974.0           2         540   \n",
       "1299             6           0       1959.0           1         305   \n",
       "1160             7           1       1978.0           2         440   \n",
       "981              8           1       1998.0           3         676   \n",
       "685              6           1       1984.0           2         577   \n",
       "\n",
       "      WoodDeckSF  OpenPorchSF  MoSold  YrSold  \n",
       "1159           0           69       7    2008  \n",
       "1299         218            0       5    2010  \n",
       "1160          26            0       7    2010  \n",
       "981          250            0       7    2009  \n",
       "685          219            0       9    2007  \n",
       "\n",
       "[5 rows x 27 columns]"
      ]
     },
     "execution_count": 21,
     "metadata": {},
     "output_type": "execute_result"
    }
   ],
   "source": [
    "numerical_df.head()"
   ]
  },
  {
   "cell_type": "code",
   "execution_count": 22,
   "metadata": {},
   "outputs": [
    {
     "data": {
      "text/plain": [
       "LotFrontage     209\n",
       "GarageYrBlt      66\n",
       "MasVnrArea        8\n",
       "YrSold            0\n",
       "2ndFlrSF          0\n",
       "LotArea           0\n",
       "OverallQual       0\n",
       "OverallCond       0\n",
       "YearBuilt         0\n",
       "YearRemodAdd      0\n",
       "BsmtFinSF1        0\n",
       "BsmtUnfSF         0\n",
       "TotalBsmtSF       0\n",
       "1stFlrSF          0\n",
       "GrLivArea         0\n",
       "MoSold            0\n",
       "BsmtFullBath      0\n",
       "FullBath          0\n",
       "HalfBath          0\n",
       "BedroomAbvGr      0\n",
       "TotRmsAbvGrd      0\n",
       "Fireplaces        0\n",
       "GarageCars        0\n",
       "GarageArea        0\n",
       "WoodDeckSF        0\n",
       "OpenPorchSF       0\n",
       "MSSubClass        0\n",
       "dtype: int64"
      ]
     },
     "execution_count": 22,
     "metadata": {},
     "output_type": "execute_result"
    }
   ],
   "source": [
    "numerical_df.isnull().sum().sort_values(ascending=False)"
   ]
  },
  {
   "cell_type": "code",
   "execution_count": 23,
   "metadata": {},
   "outputs": [
    {
     "data": {
      "text/plain": [
       "count    959.000000\n",
       "mean      70.087591\n",
       "std       24.745946\n",
       "min       21.000000\n",
       "25%       59.000000\n",
       "50%       70.000000\n",
       "75%       80.000000\n",
       "max      313.000000\n",
       "Name: LotFrontage, dtype: float64"
      ]
     },
     "execution_count": 23,
     "metadata": {},
     "output_type": "execute_result"
    }
   ],
   "source": [
    "numerical_df['LotFrontage'].describe()"
   ]
  },
  {
   "cell_type": "code",
   "execution_count": 24,
   "metadata": {},
   "outputs": [
    {
     "data": {
      "text/plain": [
       "count    1160.000000\n",
       "mean      105.174138\n",
       "std       180.756155\n",
       "min         0.000000\n",
       "25%         0.000000\n",
       "50%         0.000000\n",
       "75%       168.000000\n",
       "max      1600.000000\n",
       "Name: MasVnrArea, dtype: float64"
      ]
     },
     "execution_count": 24,
     "metadata": {},
     "output_type": "execute_result"
    }
   ],
   "source": [
    "numerical_df['MasVnrArea'].describe()"
   ]
  },
  {
   "cell_type": "code",
   "execution_count": 25,
   "metadata": {},
   "outputs": [],
   "source": [
    "#EDA\n",
    "#Filling empty values with median\n",
    "impute_value_LotFrontage=numerical_df['LotFrontage'].median()\n",
    "impute_value_MasVnrArea=numerical_df['MasVnrArea'].median()\n",
    "numerical_df['LotFrontage'].fillna(impute_value_LotFrontage,inplace=True)\n",
    "numerical_df['MasVnrArea'].fillna(impute_value_MasVnrArea,inplace=True)"
   ]
  },
  {
   "cell_type": "code",
   "execution_count": 26,
   "metadata": {},
   "outputs": [
    {
     "data": {
      "text/plain": [
       "GarageYrBlt     66\n",
       "YrSold           0\n",
       "2ndFlrSF         0\n",
       "LotFrontage      0\n",
       "LotArea          0\n",
       "OverallQual      0\n",
       "OverallCond      0\n",
       "YearBuilt        0\n",
       "YearRemodAdd     0\n",
       "MasVnrArea       0\n",
       "BsmtFinSF1       0\n",
       "BsmtUnfSF        0\n",
       "TotalBsmtSF      0\n",
       "1stFlrSF         0\n",
       "GrLivArea        0\n",
       "MoSold           0\n",
       "BsmtFullBath     0\n",
       "FullBath         0\n",
       "HalfBath         0\n",
       "BedroomAbvGr     0\n",
       "TotRmsAbvGrd     0\n",
       "Fireplaces       0\n",
       "GarageCars       0\n",
       "GarageArea       0\n",
       "WoodDeckSF       0\n",
       "OpenPorchSF      0\n",
       "MSSubClass       0\n",
       "dtype: int64"
      ]
     },
     "execution_count": 26,
     "metadata": {},
     "output_type": "execute_result"
    }
   ],
   "source": [
    "numerical_df.isnull().sum().sort_values(ascending=False)"
   ]
  },
  {
   "cell_type": "code",
   "execution_count": 27,
   "metadata": {},
   "outputs": [
    {
     "data": {
      "text/plain": [
       "Index(['MSSubClass', 'LotFrontage', 'LotArea', 'OverallQual', 'OverallCond',\n",
       "       'YearBuilt', 'YearRemodAdd', 'MasVnrArea', 'BsmtFinSF1', 'BsmtUnfSF',\n",
       "       'TotalBsmtSF', '1stFlrSF', '2ndFlrSF', 'GrLivArea', 'BsmtFullBath',\n",
       "       'FullBath', 'HalfBath', 'BedroomAbvGr', 'TotRmsAbvGrd', 'Fireplaces',\n",
       "       'GarageYrBlt', 'GarageCars', 'GarageArea', 'WoodDeckSF', 'OpenPorchSF',\n",
       "       'MoSold', 'YrSold'],\n",
       "      dtype='object')"
      ]
     },
     "execution_count": 27,
     "metadata": {},
     "output_type": "execute_result"
    }
   ],
   "source": [
    "numerical_df.columns"
   ]
  },
  {
   "cell_type": "code",
   "execution_count": 28,
   "metadata": {},
   "outputs": [],
   "source": [
    "import datetime\n",
    "now = datetime.datetime.now()"
   ]
  },
  {
   "cell_type": "code",
   "execution_count": 29,
   "metadata": {},
   "outputs": [],
   "source": [
    "#EDA\n",
    "#Converting year values to meaningful numbers\n",
    "numerical_df['YearBuilt'].update(now.year - numerical_df['YearBuilt'])\n",
    "numerical_df['YearRemodAdd'].update(now.year - numerical_df['YearRemodAdd'])\n",
    "numerical_df['GarageYrBlt'].update(now.year - numerical_df['GarageYrBlt'])\n",
    "numerical_df['YrSold'].update(now.year - numerical_df['YrSold'])"
   ]
  },
  {
   "cell_type": "code",
   "execution_count": 30,
   "metadata": {},
   "outputs": [
    {
     "name": "stdout",
     "output_type": "stream",
     "text": [
      "378     10.0\n",
      "819     10.0\n",
      "987     10.0\n",
      "1165    11.0\n",
      "507     11.0\n",
      "        ... \n",
      "970      NaN\n",
      "198      NaN\n",
      "210      NaN\n",
      "843      NaN\n",
      "307      NaN\n",
      "Name: GarageYrBlt, Length: 1168, dtype: float64\n"
     ]
    }
   ],
   "source": [
    "print(numerical_df['GarageYrBlt'].sort_values())"
   ]
  },
  {
   "cell_type": "code",
   "execution_count": 31,
   "metadata": {},
   "outputs": [],
   "source": [
    "#EDA\n",
    "#Filling empty values with median\n",
    "impute_value_GarageYrBlt=numerical_df['GarageYrBlt'].median()\n",
    "numerical_df['GarageYrBlt'].fillna(impute_value_GarageYrBlt,inplace=True)"
   ]
  },
  {
   "cell_type": "code",
   "execution_count": 32,
   "metadata": {},
   "outputs": [
    {
     "data": {
      "text/plain": [
       "YrSold          0\n",
       "2ndFlrSF        0\n",
       "LotFrontage     0\n",
       "LotArea         0\n",
       "OverallQual     0\n",
       "OverallCond     0\n",
       "YearBuilt       0\n",
       "YearRemodAdd    0\n",
       "MasVnrArea      0\n",
       "BsmtFinSF1      0\n",
       "BsmtUnfSF       0\n",
       "TotalBsmtSF     0\n",
       "1stFlrSF        0\n",
       "GrLivArea       0\n",
       "MoSold          0\n",
       "BsmtFullBath    0\n",
       "FullBath        0\n",
       "HalfBath        0\n",
       "BedroomAbvGr    0\n",
       "TotRmsAbvGrd    0\n",
       "Fireplaces      0\n",
       "GarageYrBlt     0\n",
       "GarageCars      0\n",
       "GarageArea      0\n",
       "WoodDeckSF      0\n",
       "OpenPorchSF     0\n",
       "MSSubClass      0\n",
       "dtype: int64"
      ]
     },
     "execution_count": 32,
     "metadata": {},
     "output_type": "execute_result"
    }
   ],
   "source": [
    "numerical_df.isnull().sum().sort_values(ascending=False)"
   ]
  },
  {
   "cell_type": "code",
   "execution_count": 33,
   "metadata": {},
   "outputs": [],
   "source": [
    "#Collenearity check with target variable\n",
    "coll_df = pd.concat([numerical_df,target],axis=1)"
   ]
  },
  {
   "cell_type": "code",
   "execution_count": 34,
   "metadata": {},
   "outputs": [
    {
     "data": {
      "text/html": [
       "<div>\n",
       "<style scoped>\n",
       "    .dataframe tbody tr th:only-of-type {\n",
       "        vertical-align: middle;\n",
       "    }\n",
       "\n",
       "    .dataframe tbody tr th {\n",
       "        vertical-align: top;\n",
       "    }\n",
       "\n",
       "    .dataframe thead th {\n",
       "        text-align: right;\n",
       "    }\n",
       "</style>\n",
       "<table border=\"1\" class=\"dataframe\">\n",
       "  <thead>\n",
       "    <tr style=\"text-align: right;\">\n",
       "      <th></th>\n",
       "      <th>MSSubClass</th>\n",
       "      <th>LotFrontage</th>\n",
       "      <th>LotArea</th>\n",
       "      <th>OverallQual</th>\n",
       "      <th>OverallCond</th>\n",
       "      <th>YearBuilt</th>\n",
       "      <th>YearRemodAdd</th>\n",
       "      <th>MasVnrArea</th>\n",
       "      <th>BsmtFinSF1</th>\n",
       "      <th>BsmtUnfSF</th>\n",
       "      <th>...</th>\n",
       "      <th>TotRmsAbvGrd</th>\n",
       "      <th>Fireplaces</th>\n",
       "      <th>GarageYrBlt</th>\n",
       "      <th>GarageCars</th>\n",
       "      <th>GarageArea</th>\n",
       "      <th>WoodDeckSF</th>\n",
       "      <th>OpenPorchSF</th>\n",
       "      <th>MoSold</th>\n",
       "      <th>YrSold</th>\n",
       "      <th>SalePrice</th>\n",
       "    </tr>\n",
       "  </thead>\n",
       "  <tbody>\n",
       "    <tr>\n",
       "      <th>1159</th>\n",
       "      <td>60</td>\n",
       "      <td>76.0</td>\n",
       "      <td>9120</td>\n",
       "      <td>6</td>\n",
       "      <td>6</td>\n",
       "      <td>46</td>\n",
       "      <td>46</td>\n",
       "      <td>270.0</td>\n",
       "      <td>442</td>\n",
       "      <td>459</td>\n",
       "      <td>...</td>\n",
       "      <td>8</td>\n",
       "      <td>1</td>\n",
       "      <td>46.0</td>\n",
       "      <td>2</td>\n",
       "      <td>540</td>\n",
       "      <td>0</td>\n",
       "      <td>69</td>\n",
       "      <td>7</td>\n",
       "      <td>12</td>\n",
       "      <td>185000</td>\n",
       "    </tr>\n",
       "    <tr>\n",
       "      <th>1299</th>\n",
       "      <td>20</td>\n",
       "      <td>75.0</td>\n",
       "      <td>7500</td>\n",
       "      <td>5</td>\n",
       "      <td>7</td>\n",
       "      <td>61</td>\n",
       "      <td>26</td>\n",
       "      <td>0.0</td>\n",
       "      <td>340</td>\n",
       "      <td>0</td>\n",
       "      <td>...</td>\n",
       "      <td>6</td>\n",
       "      <td>0</td>\n",
       "      <td>61.0</td>\n",
       "      <td>1</td>\n",
       "      <td>305</td>\n",
       "      <td>218</td>\n",
       "      <td>0</td>\n",
       "      <td>5</td>\n",
       "      <td>10</td>\n",
       "      <td>154000</td>\n",
       "    </tr>\n",
       "    <tr>\n",
       "      <th>1160</th>\n",
       "      <td>160</td>\n",
       "      <td>24.0</td>\n",
       "      <td>2280</td>\n",
       "      <td>6</td>\n",
       "      <td>5</td>\n",
       "      <td>42</td>\n",
       "      <td>42</td>\n",
       "      <td>0.0</td>\n",
       "      <td>311</td>\n",
       "      <td>544</td>\n",
       "      <td>...</td>\n",
       "      <td>7</td>\n",
       "      <td>1</td>\n",
       "      <td>42.0</td>\n",
       "      <td>2</td>\n",
       "      <td>440</td>\n",
       "      <td>26</td>\n",
       "      <td>0</td>\n",
       "      <td>7</td>\n",
       "      <td>10</td>\n",
       "      <td>146000</td>\n",
       "    </tr>\n",
       "    <tr>\n",
       "      <th>981</th>\n",
       "      <td>60</td>\n",
       "      <td>98.0</td>\n",
       "      <td>12203</td>\n",
       "      <td>8</td>\n",
       "      <td>5</td>\n",
       "      <td>22</td>\n",
       "      <td>21</td>\n",
       "      <td>975.0</td>\n",
       "      <td>854</td>\n",
       "      <td>371</td>\n",
       "      <td>...</td>\n",
       "      <td>8</td>\n",
       "      <td>1</td>\n",
       "      <td>22.0</td>\n",
       "      <td>3</td>\n",
       "      <td>676</td>\n",
       "      <td>250</td>\n",
       "      <td>0</td>\n",
       "      <td>7</td>\n",
       "      <td>11</td>\n",
       "      <td>336000</td>\n",
       "    </tr>\n",
       "    <tr>\n",
       "      <th>685</th>\n",
       "      <td>160</td>\n",
       "      <td>70.0</td>\n",
       "      <td>5062</td>\n",
       "      <td>7</td>\n",
       "      <td>5</td>\n",
       "      <td>36</td>\n",
       "      <td>36</td>\n",
       "      <td>0.0</td>\n",
       "      <td>828</td>\n",
       "      <td>180</td>\n",
       "      <td>...</td>\n",
       "      <td>6</td>\n",
       "      <td>1</td>\n",
       "      <td>36.0</td>\n",
       "      <td>2</td>\n",
       "      <td>577</td>\n",
       "      <td>219</td>\n",
       "      <td>0</td>\n",
       "      <td>9</td>\n",
       "      <td>13</td>\n",
       "      <td>207500</td>\n",
       "    </tr>\n",
       "  </tbody>\n",
       "</table>\n",
       "<p>5 rows × 28 columns</p>\n",
       "</div>"
      ],
      "text/plain": [
       "      MSSubClass  LotFrontage  LotArea  OverallQual  OverallCond  YearBuilt  \\\n",
       "1159          60         76.0     9120            6            6         46   \n",
       "1299          20         75.0     7500            5            7         61   \n",
       "1160         160         24.0     2280            6            5         42   \n",
       "981           60         98.0    12203            8            5         22   \n",
       "685          160         70.0     5062            7            5         36   \n",
       "\n",
       "      YearRemodAdd  MasVnrArea  BsmtFinSF1  BsmtUnfSF  ...  TotRmsAbvGrd  \\\n",
       "1159            46       270.0         442        459  ...             8   \n",
       "1299            26         0.0         340          0  ...             6   \n",
       "1160            42         0.0         311        544  ...             7   \n",
       "981             21       975.0         854        371  ...             8   \n",
       "685             36         0.0         828        180  ...             6   \n",
       "\n",
       "      Fireplaces  GarageYrBlt  GarageCars  GarageArea  WoodDeckSF  \\\n",
       "1159           1         46.0           2         540           0   \n",
       "1299           0         61.0           1         305         218   \n",
       "1160           1         42.0           2         440          26   \n",
       "981            1         22.0           3         676         250   \n",
       "685            1         36.0           2         577         219   \n",
       "\n",
       "      OpenPorchSF  MoSold  YrSold  SalePrice  \n",
       "1159           69       7      12     185000  \n",
       "1299            0       5      10     154000  \n",
       "1160            0       7      10     146000  \n",
       "981             0       7      11     336000  \n",
       "685             0       9      13     207500  \n",
       "\n",
       "[5 rows x 28 columns]"
      ]
     },
     "execution_count": 34,
     "metadata": {},
     "output_type": "execute_result"
    }
   ],
   "source": [
    "coll_df.head()"
   ]
  },
  {
   "cell_type": "code",
   "execution_count": 35,
   "metadata": {},
   "outputs": [],
   "source": [
    "corr_matrix = coll_df.corr()"
   ]
  },
  {
   "cell_type": "code",
   "execution_count": 36,
   "metadata": {},
   "outputs": [
    {
     "name": "stdout",
     "output_type": "stream",
     "text": [
      "OverallQual,SalePrice-->0.7950514122712488\n",
      "YearBuilt,GarageYrBlt-->0.7785411213847505\n",
      "TotalBsmtSF,1stFlrSF-->0.8245240074064683\n",
      "GrLivArea,TotRmsAbvGrd-->0.8261335504435144\n",
      "GrLivArea,SalePrice-->0.7132217393287799\n",
      "GarageCars,GarageArea-->0.8787882099628506\n"
     ]
    }
   ],
   "source": [
    "for i in range(corr_matrix.shape[0]):\n",
    "    for j in range(i+1, corr_matrix.shape[0]):\n",
    "        if abs(corr_matrix.iloc[i,j]) >= 0.7:\n",
    "               print(corr_matrix.index[i]+','+corr_matrix.index[j]+ '-->' +str(corr_matrix.iloc[i,j]))"
   ]
  },
  {
   "cell_type": "code",
   "execution_count": 37,
   "metadata": {},
   "outputs": [
    {
     "data": {
      "text/plain": [
       "(1168, 5)"
      ]
     },
     "execution_count": 37,
     "metadata": {},
     "output_type": "execute_result"
    }
   ],
   "source": [
    "#EDA\n",
    "#Picking columns based on Correlation and multicollinearity values above from numerical dataframe\n",
    "numerical_df = numerical_df[['OverallQual','YearBuilt','TotalBsmtSF','GrLivArea','GarageArea']]\n",
    "numerical_df.shape"
   ]
  },
  {
   "cell_type": "code",
   "execution_count": 38,
   "metadata": {},
   "outputs": [
    {
     "data": {
      "text/html": [
       "<div>\n",
       "<style scoped>\n",
       "    .dataframe tbody tr th:only-of-type {\n",
       "        vertical-align: middle;\n",
       "    }\n",
       "\n",
       "    .dataframe tbody tr th {\n",
       "        vertical-align: top;\n",
       "    }\n",
       "\n",
       "    .dataframe thead th {\n",
       "        text-align: right;\n",
       "    }\n",
       "</style>\n",
       "<table border=\"1\" class=\"dataframe\">\n",
       "  <thead>\n",
       "    <tr style=\"text-align: right;\">\n",
       "      <th></th>\n",
       "      <th>OverallQual</th>\n",
       "      <th>YearBuilt</th>\n",
       "      <th>TotalBsmtSF</th>\n",
       "      <th>GrLivArea</th>\n",
       "      <th>GarageArea</th>\n",
       "    </tr>\n",
       "  </thead>\n",
       "  <tbody>\n",
       "    <tr>\n",
       "      <th>1159</th>\n",
       "      <td>6</td>\n",
       "      <td>46</td>\n",
       "      <td>901</td>\n",
       "      <td>1876</td>\n",
       "      <td>540</td>\n",
       "    </tr>\n",
       "    <tr>\n",
       "      <th>1299</th>\n",
       "      <td>5</td>\n",
       "      <td>61</td>\n",
       "      <td>1246</td>\n",
       "      <td>1246</td>\n",
       "      <td>305</td>\n",
       "    </tr>\n",
       "    <tr>\n",
       "      <th>1160</th>\n",
       "      <td>6</td>\n",
       "      <td>42</td>\n",
       "      <td>855</td>\n",
       "      <td>1456</td>\n",
       "      <td>440</td>\n",
       "    </tr>\n",
       "    <tr>\n",
       "      <th>981</th>\n",
       "      <td>8</td>\n",
       "      <td>22</td>\n",
       "      <td>1225</td>\n",
       "      <td>2612</td>\n",
       "      <td>676</td>\n",
       "    </tr>\n",
       "    <tr>\n",
       "      <th>685</th>\n",
       "      <td>7</td>\n",
       "      <td>36</td>\n",
       "      <td>1190</td>\n",
       "      <td>2090</td>\n",
       "      <td>577</td>\n",
       "    </tr>\n",
       "  </tbody>\n",
       "</table>\n",
       "</div>"
      ],
      "text/plain": [
       "      OverallQual  YearBuilt  TotalBsmtSF  GrLivArea  GarageArea\n",
       "1159            6         46          901       1876         540\n",
       "1299            5         61         1246       1246         305\n",
       "1160            6         42          855       1456         440\n",
       "981             8         22         1225       2612         676\n",
       "685             7         36         1190       2090         577"
      ]
     },
     "execution_count": 38,
     "metadata": {},
     "output_type": "execute_result"
    }
   ],
   "source": [
    "numerical_df.head()"
   ]
  },
  {
   "cell_type": "code",
   "execution_count": 39,
   "metadata": {},
   "outputs": [
    {
     "data": {
      "text/plain": [
       "GarageType       66\n",
       "GarageFinish     66\n",
       "BsmtExposure     32\n",
       "BsmtFinType1     31\n",
       "BsmtQual         31\n",
       "MasVnrType        8\n",
       "RoofStyle         0\n",
       "LotShape          0\n",
       "LotConfig         0\n",
       "Neighborhood      0\n",
       "BldgType          0\n",
       "HouseStyle        0\n",
       "SaleCondition     0\n",
       "Exterior1st       0\n",
       "Exterior2nd       0\n",
       "ExterQual         0\n",
       "Foundation        0\n",
       "HeatingQC         0\n",
       "KitchenQual       0\n",
       "MSZoning          0\n",
       "dtype: int64"
      ]
     },
     "execution_count": 39,
     "metadata": {},
     "output_type": "execute_result"
    }
   ],
   "source": [
    "categorical_df.isnull().sum().sort_values(ascending=False)"
   ]
  },
  {
   "cell_type": "code",
   "execution_count": 40,
   "metadata": {},
   "outputs": [
    {
     "name": "stdout",
     "output_type": "stream",
     "text": [
      "GarageType --> ['Attchd' 'BuiltIn' 'Detchd' nan 'CarPort' 'Basment' '2Types']\n",
      "GarageFinish --> ['RFn' 'Unf' 'Fin' nan]\n",
      "BsmtExposure --> ['No' 'Mn' 'Av' 'Gd' nan]\n",
      "BsmtFinType1 --> ['ALQ' 'LwQ' 'GLQ' 'Unf' 'Rec' 'BLQ' nan]\n",
      "BsmtQual --> ['TA' 'Gd' 'Ex' nan 'Fa']\n",
      "MasVnrType --> ['BrkFace' 'None' 'BrkCmn' nan 'Stone']\n"
     ]
    }
   ],
   "source": [
    "print(\"GarageType --> \"+str(categorical_df['GarageType'].unique()))\n",
    "print(\"GarageFinish --> \"+str(categorical_df['GarageFinish'].unique()))\n",
    "print(\"BsmtExposure --> \"+str(categorical_df['BsmtExposure'].unique()))\n",
    "print(\"BsmtFinType1 --> \"+str(categorical_df['BsmtFinType1'].unique()))\n",
    "print(\"BsmtQual --> \"+str(categorical_df['BsmtQual'].unique()))\n",
    "print(\"MasVnrType --> \"+str(categorical_df['MasVnrType'].unique()))"
   ]
  },
  {
   "cell_type": "code",
   "execution_count": 41,
   "metadata": {},
   "outputs": [],
   "source": [
    "#EDA\n",
    "#NG for No Garage\n",
    "#NB for No basement for all missing values\n",
    "#Nothing\n",
    "#Filling empty values with median\n",
    "impute_value_Garage=\"NG\"\n",
    "impute_value_Basement=\"NB\"\n",
    "impute_value_MasVnrType=\"None\"\n",
    "categorical_df['GarageType'].fillna(impute_value_Garage,inplace=True)\n",
    "categorical_df['GarageFinish'].fillna(impute_value_Garage,inplace=True)\n",
    "categorical_df['BsmtExposure'].fillna(impute_value_Basement,inplace=True)\n",
    "categorical_df['BsmtFinType1'].fillna(impute_value_Basement,inplace=True)\n",
    "categorical_df['BsmtQual'].fillna(impute_value_Basement,inplace=True)\n",
    "categorical_df['MasVnrType'].fillna(impute_value_MasVnrType,inplace=True)"
   ]
  },
  {
   "cell_type": "code",
   "execution_count": 42,
   "metadata": {},
   "outputs": [
    {
     "data": {
      "text/plain": [
       "SaleCondition    0\n",
       "GarageFinish     0\n",
       "LotShape         0\n",
       "LotConfig        0\n",
       "Neighborhood     0\n",
       "BldgType         0\n",
       "HouseStyle       0\n",
       "RoofStyle        0\n",
       "Exterior1st      0\n",
       "Exterior2nd      0\n",
       "MasVnrType       0\n",
       "ExterQual        0\n",
       "Foundation       0\n",
       "BsmtQual         0\n",
       "BsmtExposure     0\n",
       "BsmtFinType1     0\n",
       "HeatingQC        0\n",
       "KitchenQual      0\n",
       "GarageType       0\n",
       "MSZoning         0\n",
       "dtype: int64"
      ]
     },
     "execution_count": 42,
     "metadata": {},
     "output_type": "execute_result"
    }
   ],
   "source": [
    "categorical_df.isnull().sum().sort_values(ascending=False)"
   ]
  },
  {
   "cell_type": "code",
   "execution_count": 43,
   "metadata": {},
   "outputs": [
    {
     "data": {
      "text/plain": [
       "(1168, 20)"
      ]
     },
     "execution_count": 43,
     "metadata": {},
     "output_type": "execute_result"
    }
   ],
   "source": [
    "categorical_df.shape"
   ]
  },
  {
   "cell_type": "code",
   "execution_count": 46,
   "metadata": {},
   "outputs": [
    {
     "data": {
      "text/html": [
       "<div>\n",
       "<style scoped>\n",
       "    .dataframe tbody tr th:only-of-type {\n",
       "        vertical-align: middle;\n",
       "    }\n",
       "\n",
       "    .dataframe tbody tr th {\n",
       "        vertical-align: top;\n",
       "    }\n",
       "\n",
       "    .dataframe thead th {\n",
       "        text-align: right;\n",
       "    }\n",
       "</style>\n",
       "<table border=\"1\" class=\"dataframe\">\n",
       "  <thead>\n",
       "    <tr style=\"text-align: right;\">\n",
       "      <th></th>\n",
       "      <th>BldgType</th>\n",
       "      <th>BsmtExposure</th>\n",
       "      <th>BsmtFinType1</th>\n",
       "      <th>BsmtQual</th>\n",
       "      <th>ExterQual</th>\n",
       "      <th>Exterior1st</th>\n",
       "      <th>Exterior2nd</th>\n",
       "      <th>Foundation</th>\n",
       "      <th>GarageFinish</th>\n",
       "      <th>GarageType</th>\n",
       "      <th>...</th>\n",
       "      <th>HouseStyle</th>\n",
       "      <th>KitchenQual</th>\n",
       "      <th>LotConfig</th>\n",
       "      <th>LotShape</th>\n",
       "      <th>MSZoning</th>\n",
       "      <th>MasVnrType</th>\n",
       "      <th>Neighborhood</th>\n",
       "      <th>RoofStyle</th>\n",
       "      <th>SaleCondition</th>\n",
       "      <th>SalePrice</th>\n",
       "    </tr>\n",
       "  </thead>\n",
       "  <tbody>\n",
       "    <tr>\n",
       "      <th>1159</th>\n",
       "      <td>NaN</td>\n",
       "      <td>NaN</td>\n",
       "      <td>NaN</td>\n",
       "      <td>NaN</td>\n",
       "      <td>NaN</td>\n",
       "      <td>NaN</td>\n",
       "      <td>NaN</td>\n",
       "      <td>NaN</td>\n",
       "      <td>NaN</td>\n",
       "      <td>NaN</td>\n",
       "      <td>...</td>\n",
       "      <td>NaN</td>\n",
       "      <td>NaN</td>\n",
       "      <td>NaN</td>\n",
       "      <td>NaN</td>\n",
       "      <td>NaN</td>\n",
       "      <td>NaN</td>\n",
       "      <td>NaN</td>\n",
       "      <td>NaN</td>\n",
       "      <td>NaN</td>\n",
       "      <td>NaN</td>\n",
       "    </tr>\n",
       "    <tr>\n",
       "      <th>1299</th>\n",
       "      <td>NaN</td>\n",
       "      <td>NaN</td>\n",
       "      <td>NaN</td>\n",
       "      <td>NaN</td>\n",
       "      <td>NaN</td>\n",
       "      <td>NaN</td>\n",
       "      <td>NaN</td>\n",
       "      <td>NaN</td>\n",
       "      <td>NaN</td>\n",
       "      <td>NaN</td>\n",
       "      <td>...</td>\n",
       "      <td>NaN</td>\n",
       "      <td>NaN</td>\n",
       "      <td>NaN</td>\n",
       "      <td>NaN</td>\n",
       "      <td>NaN</td>\n",
       "      <td>NaN</td>\n",
       "      <td>NaN</td>\n",
       "      <td>NaN</td>\n",
       "      <td>NaN</td>\n",
       "      <td>NaN</td>\n",
       "    </tr>\n",
       "    <tr>\n",
       "      <th>1160</th>\n",
       "      <td>NaN</td>\n",
       "      <td>NaN</td>\n",
       "      <td>NaN</td>\n",
       "      <td>NaN</td>\n",
       "      <td>NaN</td>\n",
       "      <td>NaN</td>\n",
       "      <td>NaN</td>\n",
       "      <td>NaN</td>\n",
       "      <td>NaN</td>\n",
       "      <td>NaN</td>\n",
       "      <td>...</td>\n",
       "      <td>NaN</td>\n",
       "      <td>NaN</td>\n",
       "      <td>NaN</td>\n",
       "      <td>NaN</td>\n",
       "      <td>NaN</td>\n",
       "      <td>NaN</td>\n",
       "      <td>NaN</td>\n",
       "      <td>NaN</td>\n",
       "      <td>NaN</td>\n",
       "      <td>NaN</td>\n",
       "    </tr>\n",
       "    <tr>\n",
       "      <th>981</th>\n",
       "      <td>NaN</td>\n",
       "      <td>NaN</td>\n",
       "      <td>NaN</td>\n",
       "      <td>NaN</td>\n",
       "      <td>NaN</td>\n",
       "      <td>NaN</td>\n",
       "      <td>NaN</td>\n",
       "      <td>NaN</td>\n",
       "      <td>NaN</td>\n",
       "      <td>NaN</td>\n",
       "      <td>...</td>\n",
       "      <td>NaN</td>\n",
       "      <td>NaN</td>\n",
       "      <td>NaN</td>\n",
       "      <td>NaN</td>\n",
       "      <td>NaN</td>\n",
       "      <td>NaN</td>\n",
       "      <td>NaN</td>\n",
       "      <td>NaN</td>\n",
       "      <td>NaN</td>\n",
       "      <td>NaN</td>\n",
       "    </tr>\n",
       "    <tr>\n",
       "      <th>685</th>\n",
       "      <td>NaN</td>\n",
       "      <td>NaN</td>\n",
       "      <td>NaN</td>\n",
       "      <td>NaN</td>\n",
       "      <td>NaN</td>\n",
       "      <td>NaN</td>\n",
       "      <td>NaN</td>\n",
       "      <td>NaN</td>\n",
       "      <td>NaN</td>\n",
       "      <td>NaN</td>\n",
       "      <td>...</td>\n",
       "      <td>NaN</td>\n",
       "      <td>NaN</td>\n",
       "      <td>NaN</td>\n",
       "      <td>NaN</td>\n",
       "      <td>NaN</td>\n",
       "      <td>NaN</td>\n",
       "      <td>NaN</td>\n",
       "      <td>NaN</td>\n",
       "      <td>NaN</td>\n",
       "      <td>NaN</td>\n",
       "    </tr>\n",
       "    <tr>\n",
       "      <th>...</th>\n",
       "      <td>...</td>\n",
       "      <td>...</td>\n",
       "      <td>...</td>\n",
       "      <td>...</td>\n",
       "      <td>...</td>\n",
       "      <td>...</td>\n",
       "      <td>...</td>\n",
       "      <td>...</td>\n",
       "      <td>...</td>\n",
       "      <td>...</td>\n",
       "      <td>...</td>\n",
       "      <td>...</td>\n",
       "      <td>...</td>\n",
       "      <td>...</td>\n",
       "      <td>...</td>\n",
       "      <td>...</td>\n",
       "      <td>...</td>\n",
       "      <td>...</td>\n",
       "      <td>...</td>\n",
       "      <td>...</td>\n",
       "      <td>...</td>\n",
       "    </tr>\n",
       "    <tr>\n",
       "      <th>1146</th>\n",
       "      <td>NaN</td>\n",
       "      <td>NaN</td>\n",
       "      <td>NaN</td>\n",
       "      <td>NaN</td>\n",
       "      <td>NaN</td>\n",
       "      <td>NaN</td>\n",
       "      <td>NaN</td>\n",
       "      <td>NaN</td>\n",
       "      <td>NaN</td>\n",
       "      <td>NaN</td>\n",
       "      <td>...</td>\n",
       "      <td>NaN</td>\n",
       "      <td>NaN</td>\n",
       "      <td>NaN</td>\n",
       "      <td>NaN</td>\n",
       "      <td>NaN</td>\n",
       "      <td>NaN</td>\n",
       "      <td>NaN</td>\n",
       "      <td>NaN</td>\n",
       "      <td>NaN</td>\n",
       "      <td>NaN</td>\n",
       "    </tr>\n",
       "    <tr>\n",
       "      <th>51</th>\n",
       "      <td>NaN</td>\n",
       "      <td>NaN</td>\n",
       "      <td>NaN</td>\n",
       "      <td>NaN</td>\n",
       "      <td>NaN</td>\n",
       "      <td>NaN</td>\n",
       "      <td>NaN</td>\n",
       "      <td>NaN</td>\n",
       "      <td>NaN</td>\n",
       "      <td>NaN</td>\n",
       "      <td>...</td>\n",
       "      <td>NaN</td>\n",
       "      <td>NaN</td>\n",
       "      <td>NaN</td>\n",
       "      <td>NaN</td>\n",
       "      <td>NaN</td>\n",
       "      <td>NaN</td>\n",
       "      <td>NaN</td>\n",
       "      <td>NaN</td>\n",
       "      <td>NaN</td>\n",
       "      <td>NaN</td>\n",
       "    </tr>\n",
       "    <tr>\n",
       "      <th>631</th>\n",
       "      <td>NaN</td>\n",
       "      <td>NaN</td>\n",
       "      <td>NaN</td>\n",
       "      <td>NaN</td>\n",
       "      <td>NaN</td>\n",
       "      <td>NaN</td>\n",
       "      <td>NaN</td>\n",
       "      <td>NaN</td>\n",
       "      <td>NaN</td>\n",
       "      <td>NaN</td>\n",
       "      <td>...</td>\n",
       "      <td>NaN</td>\n",
       "      <td>NaN</td>\n",
       "      <td>NaN</td>\n",
       "      <td>NaN</td>\n",
       "      <td>NaN</td>\n",
       "      <td>NaN</td>\n",
       "      <td>NaN</td>\n",
       "      <td>NaN</td>\n",
       "      <td>NaN</td>\n",
       "      <td>NaN</td>\n",
       "    </tr>\n",
       "    <tr>\n",
       "      <th>828</th>\n",
       "      <td>NaN</td>\n",
       "      <td>NaN</td>\n",
       "      <td>NaN</td>\n",
       "      <td>NaN</td>\n",
       "      <td>NaN</td>\n",
       "      <td>NaN</td>\n",
       "      <td>NaN</td>\n",
       "      <td>NaN</td>\n",
       "      <td>NaN</td>\n",
       "      <td>NaN</td>\n",
       "      <td>...</td>\n",
       "      <td>NaN</td>\n",
       "      <td>NaN</td>\n",
       "      <td>NaN</td>\n",
       "      <td>NaN</td>\n",
       "      <td>NaN</td>\n",
       "      <td>NaN</td>\n",
       "      <td>NaN</td>\n",
       "      <td>NaN</td>\n",
       "      <td>NaN</td>\n",
       "      <td>NaN</td>\n",
       "    </tr>\n",
       "    <tr>\n",
       "      <th>1044</th>\n",
       "      <td>NaN</td>\n",
       "      <td>NaN</td>\n",
       "      <td>NaN</td>\n",
       "      <td>NaN</td>\n",
       "      <td>NaN</td>\n",
       "      <td>NaN</td>\n",
       "      <td>NaN</td>\n",
       "      <td>NaN</td>\n",
       "      <td>NaN</td>\n",
       "      <td>NaN</td>\n",
       "      <td>...</td>\n",
       "      <td>NaN</td>\n",
       "      <td>NaN</td>\n",
       "      <td>NaN</td>\n",
       "      <td>NaN</td>\n",
       "      <td>NaN</td>\n",
       "      <td>NaN</td>\n",
       "      <td>NaN</td>\n",
       "      <td>NaN</td>\n",
       "      <td>NaN</td>\n",
       "      <td>NaN</td>\n",
       "    </tr>\n",
       "  </tbody>\n",
       "</table>\n",
       "<p>1168 rows × 21 columns</p>\n",
       "</div>"
      ],
      "text/plain": [
       "     BldgType BsmtExposure BsmtFinType1 BsmtQual ExterQual Exterior1st  \\\n",
       "1159      NaN          NaN          NaN      NaN       NaN         NaN   \n",
       "1299      NaN          NaN          NaN      NaN       NaN         NaN   \n",
       "1160      NaN          NaN          NaN      NaN       NaN         NaN   \n",
       "981       NaN          NaN          NaN      NaN       NaN         NaN   \n",
       "685       NaN          NaN          NaN      NaN       NaN         NaN   \n",
       "...       ...          ...          ...      ...       ...         ...   \n",
       "1146      NaN          NaN          NaN      NaN       NaN         NaN   \n",
       "51        NaN          NaN          NaN      NaN       NaN         NaN   \n",
       "631       NaN          NaN          NaN      NaN       NaN         NaN   \n",
       "828       NaN          NaN          NaN      NaN       NaN         NaN   \n",
       "1044      NaN          NaN          NaN      NaN       NaN         NaN   \n",
       "\n",
       "     Exterior2nd Foundation GarageFinish GarageType  ... HouseStyle  \\\n",
       "1159         NaN        NaN          NaN        NaN  ...        NaN   \n",
       "1299         NaN        NaN          NaN        NaN  ...        NaN   \n",
       "1160         NaN        NaN          NaN        NaN  ...        NaN   \n",
       "981          NaN        NaN          NaN        NaN  ...        NaN   \n",
       "685          NaN        NaN          NaN        NaN  ...        NaN   \n",
       "...          ...        ...          ...        ...  ...        ...   \n",
       "1146         NaN        NaN          NaN        NaN  ...        NaN   \n",
       "51           NaN        NaN          NaN        NaN  ...        NaN   \n",
       "631          NaN        NaN          NaN        NaN  ...        NaN   \n",
       "828          NaN        NaN          NaN        NaN  ...        NaN   \n",
       "1044         NaN        NaN          NaN        NaN  ...        NaN   \n",
       "\n",
       "     KitchenQual LotConfig LotShape MSZoning MasVnrType Neighborhood  \\\n",
       "1159         NaN       NaN      NaN      NaN        NaN          NaN   \n",
       "1299         NaN       NaN      NaN      NaN        NaN          NaN   \n",
       "1160         NaN       NaN      NaN      NaN        NaN          NaN   \n",
       "981          NaN       NaN      NaN      NaN        NaN          NaN   \n",
       "685          NaN       NaN      NaN      NaN        NaN          NaN   \n",
       "...          ...       ...      ...      ...        ...          ...   \n",
       "1146         NaN       NaN      NaN      NaN        NaN          NaN   \n",
       "51           NaN       NaN      NaN      NaN        NaN          NaN   \n",
       "631          NaN       NaN      NaN      NaN        NaN          NaN   \n",
       "828          NaN       NaN      NaN      NaN        NaN          NaN   \n",
       "1044         NaN       NaN      NaN      NaN        NaN          NaN   \n",
       "\n",
       "     RoofStyle SaleCondition SalePrice  \n",
       "1159       NaN           NaN       NaN  \n",
       "1299       NaN           NaN       NaN  \n",
       "1160       NaN           NaN       NaN  \n",
       "981        NaN           NaN       NaN  \n",
       "685        NaN           NaN       NaN  \n",
       "...        ...           ...       ...  \n",
       "1146       NaN           NaN       NaN  \n",
       "51         NaN           NaN       NaN  \n",
       "631        NaN           NaN       NaN  \n",
       "828        NaN           NaN       NaN  \n",
       "1044       NaN           NaN       NaN  \n",
       "\n",
       "[1168 rows x 21 columns]"
      ]
     },
     "execution_count": 46,
     "metadata": {},
     "output_type": "execute_result"
    }
   ],
   "source": []
  },
  {
   "cell_type": "code",
   "execution_count": 48,
   "metadata": {},
   "outputs": [
    {
     "data": {
      "text/plain": [
       "(array([0, 1, 2, 3, 4, 5, 6]), <a list of 7 Text xticklabel objects>)"
      ]
     },
     "execution_count": 48,
     "metadata": {},
     "output_type": "execute_result"
    },
    {
     "data": {
      "image/png": "[encoded data removed]",
      "text/plain": [
       "<Figure size 360x360 with 1 Axes>"
      ]
     },
     "metadata": {
      "needs_background": "light"
     },
     "output_type": "display_data"
    }
   ],
   "source": [
    "sns.catplot(data=pd.concat([categorical_df, target], axis=1), x='GarageType', y='SalePrice', kind='bar')\n",
    "plt.xlabel(\"GarageType\")\n",
    "plt.ylabel(\"SalePrice\")\n",
    "plt.xticks(rotation=90)"
   ]
  },
  {
   "cell_type": "code",
   "execution_count": 44,
   "metadata": {},
   "outputs": [],
   "source": [
    "#Performing Annova test to find out and pick columns that have variance against target variable\n",
    "import statsmodels.stats.multicomp as multi"
   ]
  },
  {
   "cell_type": "code",
   "execution_count": 45,
   "metadata": {},
   "outputs": [
    {
     "data": {
      "text/html": [
       "<table class=\"simpletable\">\n",
       "<caption>Multiple Comparison of Means - Tukey HSD, FWER=0.05</caption>\n",
       "<tr>\n",
       "  <th>group1</th>  <th>group2</th>   <th>meandiff</th>    <th>p-adj</th>     <th>lower</th>       <th>upper</th>    <th>reject</th>\n",
       "</tr>\n",
       "<tr>\n",
       "  <td>Abnorml</td> <td>AdjLand</td>  <td>-52243.75</td>  <td>0.8255</td> <td>-178296.3229</td> <td>73808.8229</td>   <td>False</td>\n",
       "</tr>\n",
       "<tr>\n",
       "  <td>Abnorml</td> <td>Alloca</td>  <td>20926.6944</td>    <td>0.9</td>   <td>-54317.4893</td> <td>96170.8782</td>   <td>False</td>\n",
       "</tr>\n",
       "<tr>\n",
       "  <td>Abnorml</td> <td>Family</td>   <td>887.2024</td>     <td>0.9</td>   <td>-61042.8911</td> <td>62817.2959</td>   <td>False</td>\n",
       "</tr>\n",
       "<tr>\n",
       "  <td>Abnorml</td> <td>Normal</td>  <td>27497.9261</td>  <td>0.0168</td>   <td>3085.9002</td>  <td>51909.9519</td>   <td>True</td> \n",
       "</tr>\n",
       "<tr>\n",
       "  <td>Abnorml</td> <td>Partial</td> <td>122843.5967</td>  <td>0.001</td>  <td>91092.2882</td>  <td>154594.9051</td>  <td>True</td> \n",
       "</tr>\n",
       "<tr>\n",
       "  <td>AdjLand</td> <td>Alloca</td>  <td>73170.4444</td>  <td>0.6656</td>  <td>-69850.9801</td> <td>216191.869</td>   <td>False</td>\n",
       "</tr>\n",
       "<tr>\n",
       "  <td>AdjLand</td> <td>Family</td>  <td>53130.9524</td>   <td>0.867</td>  <td>-83356.3261</td> <td>189618.2309</td>  <td>False</td>\n",
       "</tr>\n",
       "<tr>\n",
       "  <td>AdjLand</td> <td>Normal</td>  <td>79741.6761</td>  <td>0.4455</td>  <td>-44312.2949</td> <td>203795.647</td>   <td>False</td>\n",
       "</tr>\n",
       "<tr>\n",
       "  <td>AdjLand</td> <td>Partial</td> <td>175087.3467</td>  <td>0.001</td>   <td>49382.986</td>  <td>300791.7074</td>  <td>True</td> \n",
       "</tr>\n",
       "<tr>\n",
       "  <td>Alloca</td>  <td>Family</td>  <td>-20039.4921</td>   <td>0.9</td>  <td>-111697.6245</td> <td>71618.6404</td>   <td>False</td>\n",
       "</tr>\n",
       "<tr>\n",
       "  <td>Alloca</td>  <td>Normal</td>   <td>6571.2316</td>    <td>0.9</td>   <td>-65274.6017</td> <td>78417.0649</td>   <td>False</td>\n",
       "</tr>\n",
       "<tr>\n",
       "  <td>Alloca</td>  <td>Partial</td> <td>101916.9022</td> <td>0.0014</td>  <td>27257.5267</td>  <td>176576.2777</td>  <td>True</td> \n",
       "</tr>\n",
       "<tr>\n",
       "  <td>Family</td>  <td>Normal</td>  <td>26610.7237</td>  <td>0.7493</td>  <td>-31142.8309</td> <td>84364.2782</td>   <td>False</td>\n",
       "</tr>\n",
       "<tr>\n",
       "  <td>Family</td>  <td>Partial</td> <td>121956.3943</td>  <td>0.001</td>  <td>60738.1646</td>  <td>183174.624</td>   <td>True</td> \n",
       "</tr>\n",
       "<tr>\n",
       "  <td>Normal</td>  <td>Partial</td> <td>95345.6706</td>   <td>0.001</td>  <td>72800.5565</td>  <td>117890.7847</td>  <td>True</td> \n",
       "</tr>\n",
       "</table>"
      ],
      "text/plain": [
       "<class 'statsmodels.iolib.table.SimpleTable'>"
      ]
     },
     "execution_count": 45,
     "metadata": {},
     "output_type": "execute_result"
    }
   ],
   "source": [
    "mc = multi.MultiComparison(target['SalePrice'], categorical_df['SaleCondition'])\n",
    "result = mc.tukeyhsd()\n",
    "result.summary()"
   ]
  },
  {
   "cell_type": "code",
   "execution_count": 46,
   "metadata": {},
   "outputs": [
    {
     "data": {
      "text/plain": [
       "0.4"
      ]
     },
     "execution_count": 46,
     "metadata": {},
     "output_type": "execute_result"
    }
   ],
   "source": [
    "len(result.reject[result.reject==True])/len(result.reject)"
   ]
  },
  {
   "cell_type": "code",
   "execution_count": 47,
   "metadata": {},
   "outputs": [
    {
     "name": "stdout",
     "output_type": "stream",
     "text": [
      "One hot encoding columns --> {'MasVnrType', 'MSZoning', 'BldgType', 'Neighborhood', 'BsmtExposure', 'BsmtQual'}\n",
      "Label encoding columns --> {'GarageFinish', 'LotShape', 'KitchenQual', 'HeatingQC', 'ExterQual'}\n",
      "Columns to be dropped --> {'RoofStyle', 'BsmtFinType1', 'HouseStyle', 'GarageType', 'SaleCondition', 'Exterior1st', 'LotConfig', 'Exterior2nd', 'Foundation'}\n"
     ]
    }
   ],
   "source": [
    "select_annova_columns_for_onehot = set()\n",
    "select_annova_columns_for_label = set()\n",
    "select_annova_columns_for_dropping = set()\n",
    "\n",
    "for column in categorical_df:\n",
    "    mc = multi.MultiComparison(target['SalePrice'], categorical_df[column])\n",
    "    result = mc.tukeyhsd()\n",
    "    \n",
    "    reject_col = abs(len(result.reject[result.reject==True])/len(result.reject))\n",
    "    \n",
    "    if(reject_col == 1 or reject_col == 0.5):\n",
    "        select_annova_columns_for_label.add(column)\n",
    "    elif(reject_col > 0.5):\n",
    "        select_annova_columns_for_onehot.add(column)\n",
    "    else:\n",
    "        select_annova_columns_for_dropping.add(column)\n",
    "        \n",
    "print(\"One hot encoding columns --> \"+str(select_annova_columns_for_onehot))\n",
    "print(\"Label encoding columns --> \"+str(select_annova_columns_for_label))\n",
    "print(\"Columns to be dropped --> \"+str(select_annova_columns_for_dropping))"
   ]
  },
  {
   "cell_type": "code",
   "execution_count": 48,
   "metadata": {},
   "outputs": [],
   "source": [
    "#EDA\n",
    "#Dropping low relation columns\n",
    "categorical_df.drop(labels=['BsmtFinType1', 'Exterior2nd', 'Exterior1st', 'HouseStyle', 'SaleCondition', 'LotConfig', \n",
    "                            'RoofStyle', 'Foundation', 'GarageType'],axis=1,inplace=True)"
   ]
  },
  {
   "cell_type": "code",
   "execution_count": 49,
   "metadata": {},
   "outputs": [
    {
     "data": {
      "text/plain": [
       "(1168, 11)"
      ]
     },
     "execution_count": 49,
     "metadata": {},
     "output_type": "execute_result"
    }
   ],
   "source": [
    "categorical_df.shape"
   ]
  },
  {
   "cell_type": "code",
   "execution_count": 50,
   "metadata": {},
   "outputs": [
    {
     "name": "stdout",
     "output_type": "stream",
     "text": [
      "MSZoning --> 5with unique values --> ['RL' 'FV' 'RM' 'RH' 'C (all)']\n",
      "LotShape --> 4with unique values --> ['Reg' 'IR1' 'IR2' 'IR3']\n",
      "Neighborhood --> 25with unique values --> ['NWAmes' 'NAmes' 'NPkVill' 'NoRidge' 'StoneBr' 'Somerst' 'Mitchel'\n",
      " 'ClearCr' 'SawyerW' 'Gilbert' 'CollgCr' 'Edwards' 'BrkSide' 'OldTown'\n",
      " 'Sawyer' 'MeadowV' 'NridgHt' 'Timber' 'Blmngtn' 'SWISU' 'BrDale'\n",
      " 'Crawfor' 'IDOTRR' 'Blueste' 'Veenker']\n",
      "BldgType --> 5with unique values --> ['1Fam' 'Twnhs' 'TwnhsE' '2fmCon' 'Duplex']\n",
      "MasVnrType --> 4with unique values --> ['BrkFace' 'None' 'BrkCmn' 'Stone']\n",
      "ExterQual --> 4with unique values --> ['Gd' 'TA' 'Fa' 'Ex']\n",
      "BsmtQual --> 5with unique values --> ['TA' 'Gd' 'Ex' 'NB' 'Fa']\n",
      "BsmtExposure --> 5with unique values --> ['No' 'Mn' 'Av' 'Gd' 'NB']\n",
      "HeatingQC --> 4with unique values --> ['TA' 'Ex' 'Fa' 'Gd']\n",
      "KitchenQual --> 4with unique values --> ['Gd' 'TA' 'Fa' 'Ex']\n",
      "GarageFinish --> 4with unique values --> ['RFn' 'Unf' 'Fin' 'NG']\n"
     ]
    }
   ],
   "source": [
    "for column in categorical_df:\n",
    "    col_details = categorical_df[column].unique()\n",
    "    print(column +\" --> \" + str(len(col_details)) + \"with unique values --> \"+str(col_details))"
   ]
  },
  {
   "cell_type": "code",
   "execution_count": 51,
   "metadata": {},
   "outputs": [],
   "source": [
    "#EDA\n",
    "#Label Encoding\n",
    "#Label encoding columns --> {'ExterQual', 'KitchenQual', 'HeatingQC', 'LotShape', 'GarageFinish'}\n",
    "#Adding additional column 'BsmtQual' and 'BsmtExposure' as well due to order present\n",
    "cat_list_dict1 = {'ExterQual': ['Fa', 'TA', 'Gd', 'Ex'],\n",
    "                  'KitchenQual': ['Fa', 'TA', 'Gd', 'Ex'],\n",
    "                  'HeatingQC': ['Fa', 'TA', 'Gd', 'Ex'],\n",
    "                  'LotShape': ['IR3', 'IR2', 'IR1', 'Reg'],\n",
    "                  'GarageFinish': ['NG', 'Unf', 'RFn', 'Fin'],\n",
    "                  'BsmtQual': ['NB', 'Fa', 'TA', 'Gd', 'Ex'],\n",
    "                 'BsmtExposure': ['NB', 'No', 'Mn', 'Av', 'Gd']}"
   ]
  },
  {
   "cell_type": "code",
   "execution_count": 52,
   "metadata": {},
   "outputs": [],
   "source": [
    "def convertCategorisToCodes(columns, df):\n",
    "    for column in columns:\n",
    "        df[column] = pd.Categorical(df[column], categories = cat_list_dict1[column])\n",
    "        df[column] = df[column].cat.codes"
   ]
  },
  {
   "cell_type": "code",
   "execution_count": 53,
   "metadata": {},
   "outputs": [],
   "source": [
    "#EDA\n",
    "#Label encoding columns --> {'ExterQual', 'KitchenQual', 'HeatingQC', 'LotShape', 'GarageFinish'}\n",
    "convertCategorisToCodes(['ExterQual'],categorical_df)\n",
    "convertCategorisToCodes(['KitchenQual'],categorical_df)\n",
    "convertCategorisToCodes(['HeatingQC'],categorical_df)\n",
    "convertCategorisToCodes(['LotShape'],categorical_df)\n",
    "convertCategorisToCodes(['GarageFinish'],categorical_df)\n",
    "convertCategorisToCodes(['BsmtQual'],categorical_df)\n",
    "convertCategorisToCodes(['BsmtExposure'],categorical_df)"
   ]
  },
  {
   "cell_type": "code",
   "execution_count": 54,
   "metadata": {},
   "outputs": [
    {
     "data": {
      "text/html": [
       "<div>\n",
       "<style scoped>\n",
       "    .dataframe tbody tr th:only-of-type {\n",
       "        vertical-align: middle;\n",
       "    }\n",
       "\n",
       "    .dataframe tbody tr th {\n",
       "        vertical-align: top;\n",
       "    }\n",
       "\n",
       "    .dataframe thead th {\n",
       "        text-align: right;\n",
       "    }\n",
       "</style>\n",
       "<table border=\"1\" class=\"dataframe\">\n",
       "  <thead>\n",
       "    <tr style=\"text-align: right;\">\n",
       "      <th></th>\n",
       "      <th>MSZoning</th>\n",
       "      <th>LotShape</th>\n",
       "      <th>Neighborhood</th>\n",
       "      <th>BldgType</th>\n",
       "      <th>MasVnrType</th>\n",
       "      <th>ExterQual</th>\n",
       "      <th>BsmtQual</th>\n",
       "      <th>BsmtExposure</th>\n",
       "      <th>HeatingQC</th>\n",
       "      <th>KitchenQual</th>\n",
       "      <th>GarageFinish</th>\n",
       "    </tr>\n",
       "  </thead>\n",
       "  <tbody>\n",
       "    <tr>\n",
       "      <th>1159</th>\n",
       "      <td>RL</td>\n",
       "      <td>3</td>\n",
       "      <td>NWAmes</td>\n",
       "      <td>1Fam</td>\n",
       "      <td>BrkFace</td>\n",
       "      <td>2</td>\n",
       "      <td>2</td>\n",
       "      <td>1</td>\n",
       "      <td>1</td>\n",
       "      <td>2</td>\n",
       "      <td>2</td>\n",
       "    </tr>\n",
       "    <tr>\n",
       "      <th>1299</th>\n",
       "      <td>RL</td>\n",
       "      <td>3</td>\n",
       "      <td>NAmes</td>\n",
       "      <td>1Fam</td>\n",
       "      <td>None</td>\n",
       "      <td>1</td>\n",
       "      <td>2</td>\n",
       "      <td>1</td>\n",
       "      <td>3</td>\n",
       "      <td>2</td>\n",
       "      <td>2</td>\n",
       "    </tr>\n",
       "    <tr>\n",
       "      <th>1160</th>\n",
       "      <td>RL</td>\n",
       "      <td>3</td>\n",
       "      <td>NPkVill</td>\n",
       "      <td>Twnhs</td>\n",
       "      <td>None</td>\n",
       "      <td>1</td>\n",
       "      <td>3</td>\n",
       "      <td>1</td>\n",
       "      <td>0</td>\n",
       "      <td>1</td>\n",
       "      <td>1</td>\n",
       "    </tr>\n",
       "    <tr>\n",
       "      <th>981</th>\n",
       "      <td>RL</td>\n",
       "      <td>2</td>\n",
       "      <td>NoRidge</td>\n",
       "      <td>1Fam</td>\n",
       "      <td>BrkFace</td>\n",
       "      <td>2</td>\n",
       "      <td>3</td>\n",
       "      <td>1</td>\n",
       "      <td>3</td>\n",
       "      <td>2</td>\n",
       "      <td>3</td>\n",
       "    </tr>\n",
       "    <tr>\n",
       "      <th>685</th>\n",
       "      <td>RL</td>\n",
       "      <td>2</td>\n",
       "      <td>StoneBr</td>\n",
       "      <td>TwnhsE</td>\n",
       "      <td>None</td>\n",
       "      <td>2</td>\n",
       "      <td>3</td>\n",
       "      <td>2</td>\n",
       "      <td>2</td>\n",
       "      <td>2</td>\n",
       "      <td>3</td>\n",
       "    </tr>\n",
       "  </tbody>\n",
       "</table>\n",
       "</div>"
      ],
      "text/plain": [
       "     MSZoning  LotShape Neighborhood BldgType MasVnrType  ExterQual  BsmtQual  \\\n",
       "1159       RL         3       NWAmes     1Fam    BrkFace          2         2   \n",
       "1299       RL         3        NAmes     1Fam       None          1         2   \n",
       "1160       RL         3      NPkVill    Twnhs       None          1         3   \n",
       "981        RL         2      NoRidge     1Fam    BrkFace          2         3   \n",
       "685        RL         2      StoneBr   TwnhsE       None          2         3   \n",
       "\n",
       "      BsmtExposure  HeatingQC  KitchenQual  GarageFinish  \n",
       "1159             1          1            2             2  \n",
       "1299             1          3            2             2  \n",
       "1160             1          0            1             1  \n",
       "981              1          3            2             3  \n",
       "685              2          2            2             3  "
      ]
     },
     "execution_count": 54,
     "metadata": {},
     "output_type": "execute_result"
    }
   ],
   "source": [
    "categorical_df.head()"
   ]
  },
  {
   "cell_type": "code",
   "execution_count": 55,
   "metadata": {},
   "outputs": [],
   "source": [
    "#EDA\n",
    "#One hot encoding\n",
    "#One hot encoding columns --> One hot encoding columns --> {'BldgType', 'MasVnrType', 'BsmtExposure', 'Neighborhood', 'MSZoning'}\n",
    "\n",
    "cat_list_dict2 = {'BldgType': ['1Fam','2fmCon','Duplex','TwnhsE','Twnhs'], \n",
    "                  'MasVnrType': ['BrkFace','None','Stone','BrkCmn'],  \n",
    "                  'Neighborhood': ['CollgCr','Veenker','Crawfor','NoRidge','Mitchel','Somerst','NWAmes'\n",
    "                                     'OldTown','BrkSide','Sawyer','NridgHt','NAmes','SawyerW','IDOTRR'\n",
    "                                     'MeadowV','Edwards','Timber','Gilbert','StoneBr','ClearCr','NPkVill'\n",
    "                                     'Blmngtn','BrDale','SWISU','Blueste'],\n",
    "                  'MSZoning': ['RL','RM','C (all)','FV','RH']}"
   ]
  },
  {
   "cell_type": "code",
   "execution_count": 56,
   "metadata": {},
   "outputs": [],
   "source": [
    "#One hot Encoding EDA\n",
    "\n",
    "for key_name in cat_list_dict2.keys():\n",
    "    categorical_df[key_name] = pd.Categorical(categorical_df[key_name], categories = cat_list_dict2[key_name])\n",
    "    categorical_df = pd.get_dummies(categorical_df, columns=[key_name], prefix=[key_name], drop_first=True)"
   ]
  },
  {
   "cell_type": "code",
   "execution_count": 57,
   "metadata": {},
   "outputs": [
    {
     "data": {
      "text/html": [
       "<div>\n",
       "<style scoped>\n",
       "    .dataframe tbody tr th:only-of-type {\n",
       "        vertical-align: middle;\n",
       "    }\n",
       "\n",
       "    .dataframe tbody tr th {\n",
       "        vertical-align: top;\n",
       "    }\n",
       "\n",
       "    .dataframe thead th {\n",
       "        text-align: right;\n",
       "    }\n",
       "</style>\n",
       "<table border=\"1\" class=\"dataframe\">\n",
       "  <thead>\n",
       "    <tr style=\"text-align: right;\">\n",
       "      <th></th>\n",
       "      <th>LotShape</th>\n",
       "      <th>ExterQual</th>\n",
       "      <th>BsmtQual</th>\n",
       "      <th>BsmtExposure</th>\n",
       "      <th>HeatingQC</th>\n",
       "      <th>KitchenQual</th>\n",
       "      <th>GarageFinish</th>\n",
       "      <th>BldgType_2fmCon</th>\n",
       "      <th>BldgType_Duplex</th>\n",
       "      <th>BldgType_TwnhsE</th>\n",
       "      <th>...</th>\n",
       "      <th>Neighborhood_StoneBr</th>\n",
       "      <th>Neighborhood_ClearCr</th>\n",
       "      <th>Neighborhood_NPkVillBlmngtn</th>\n",
       "      <th>Neighborhood_BrDale</th>\n",
       "      <th>Neighborhood_SWISU</th>\n",
       "      <th>Neighborhood_Blueste</th>\n",
       "      <th>MSZoning_RM</th>\n",
       "      <th>MSZoning_C (all)</th>\n",
       "      <th>MSZoning_FV</th>\n",
       "      <th>MSZoning_RH</th>\n",
       "    </tr>\n",
       "  </thead>\n",
       "  <tbody>\n",
       "    <tr>\n",
       "      <th>1159</th>\n",
       "      <td>3</td>\n",
       "      <td>2</td>\n",
       "      <td>2</td>\n",
       "      <td>1</td>\n",
       "      <td>1</td>\n",
       "      <td>2</td>\n",
       "      <td>2</td>\n",
       "      <td>0</td>\n",
       "      <td>0</td>\n",
       "      <td>0</td>\n",
       "      <td>...</td>\n",
       "      <td>0</td>\n",
       "      <td>0</td>\n",
       "      <td>0</td>\n",
       "      <td>0</td>\n",
       "      <td>0</td>\n",
       "      <td>0</td>\n",
       "      <td>0</td>\n",
       "      <td>0</td>\n",
       "      <td>0</td>\n",
       "      <td>0</td>\n",
       "    </tr>\n",
       "    <tr>\n",
       "      <th>1299</th>\n",
       "      <td>3</td>\n",
       "      <td>1</td>\n",
       "      <td>2</td>\n",
       "      <td>1</td>\n",
       "      <td>3</td>\n",
       "      <td>2</td>\n",
       "      <td>2</td>\n",
       "      <td>0</td>\n",
       "      <td>0</td>\n",
       "      <td>0</td>\n",
       "      <td>...</td>\n",
       "      <td>0</td>\n",
       "      <td>0</td>\n",
       "      <td>0</td>\n",
       "      <td>0</td>\n",
       "      <td>0</td>\n",
       "      <td>0</td>\n",
       "      <td>0</td>\n",
       "      <td>0</td>\n",
       "      <td>0</td>\n",
       "      <td>0</td>\n",
       "    </tr>\n",
       "    <tr>\n",
       "      <th>1160</th>\n",
       "      <td>3</td>\n",
       "      <td>1</td>\n",
       "      <td>3</td>\n",
       "      <td>1</td>\n",
       "      <td>0</td>\n",
       "      <td>1</td>\n",
       "      <td>1</td>\n",
       "      <td>0</td>\n",
       "      <td>0</td>\n",
       "      <td>0</td>\n",
       "      <td>...</td>\n",
       "      <td>0</td>\n",
       "      <td>0</td>\n",
       "      <td>0</td>\n",
       "      <td>0</td>\n",
       "      <td>0</td>\n",
       "      <td>0</td>\n",
       "      <td>0</td>\n",
       "      <td>0</td>\n",
       "      <td>0</td>\n",
       "      <td>0</td>\n",
       "    </tr>\n",
       "    <tr>\n",
       "      <th>981</th>\n",
       "      <td>2</td>\n",
       "      <td>2</td>\n",
       "      <td>3</td>\n",
       "      <td>1</td>\n",
       "      <td>3</td>\n",
       "      <td>2</td>\n",
       "      <td>3</td>\n",
       "      <td>0</td>\n",
       "      <td>0</td>\n",
       "      <td>0</td>\n",
       "      <td>...</td>\n",
       "      <td>0</td>\n",
       "      <td>0</td>\n",
       "      <td>0</td>\n",
       "      <td>0</td>\n",
       "      <td>0</td>\n",
       "      <td>0</td>\n",
       "      <td>0</td>\n",
       "      <td>0</td>\n",
       "      <td>0</td>\n",
       "      <td>0</td>\n",
       "    </tr>\n",
       "    <tr>\n",
       "      <th>685</th>\n",
       "      <td>2</td>\n",
       "      <td>2</td>\n",
       "      <td>3</td>\n",
       "      <td>2</td>\n",
       "      <td>2</td>\n",
       "      <td>2</td>\n",
       "      <td>3</td>\n",
       "      <td>0</td>\n",
       "      <td>0</td>\n",
       "      <td>1</td>\n",
       "      <td>...</td>\n",
       "      <td>1</td>\n",
       "      <td>0</td>\n",
       "      <td>0</td>\n",
       "      <td>0</td>\n",
       "      <td>0</td>\n",
       "      <td>0</td>\n",
       "      <td>0</td>\n",
       "      <td>0</td>\n",
       "      <td>0</td>\n",
       "      <td>0</td>\n",
       "    </tr>\n",
       "  </tbody>\n",
       "</table>\n",
       "<p>5 rows × 39 columns</p>\n",
       "</div>"
      ],
      "text/plain": [
       "      LotShape  ExterQual  BsmtQual  BsmtExposure  HeatingQC  KitchenQual  \\\n",
       "1159         3          2         2             1          1            2   \n",
       "1299         3          1         2             1          3            2   \n",
       "1160         3          1         3             1          0            1   \n",
       "981          2          2         3             1          3            2   \n",
       "685          2          2         3             2          2            2   \n",
       "\n",
       "      GarageFinish  BldgType_2fmCon  BldgType_Duplex  BldgType_TwnhsE  ...  \\\n",
       "1159             2                0                0                0  ...   \n",
       "1299             2                0                0                0  ...   \n",
       "1160             1                0                0                0  ...   \n",
       "981              3                0                0                0  ...   \n",
       "685              3                0                0                1  ...   \n",
       "\n",
       "      Neighborhood_StoneBr  Neighborhood_ClearCr  Neighborhood_NPkVillBlmngtn  \\\n",
       "1159                     0                     0                            0   \n",
       "1299                     0                     0                            0   \n",
       "1160                     0                     0                            0   \n",
       "981                      0                     0                            0   \n",
       "685                      1                     0                            0   \n",
       "\n",
       "      Neighborhood_BrDale  Neighborhood_SWISU  Neighborhood_Blueste  \\\n",
       "1159                    0                   0                     0   \n",
       "1299                    0                   0                     0   \n",
       "1160                    0                   0                     0   \n",
       "981                     0                   0                     0   \n",
       "685                     0                   0                     0   \n",
       "\n",
       "      MSZoning_RM  MSZoning_C (all)  MSZoning_FV  MSZoning_RH  \n",
       "1159            0                 0            0            0  \n",
       "1299            0                 0            0            0  \n",
       "1160            0                 0            0            0  \n",
       "981             0                 0            0            0  \n",
       "685             0                 0            0            0  \n",
       "\n",
       "[5 rows x 39 columns]"
      ]
     },
     "execution_count": 57,
     "metadata": {},
     "output_type": "execute_result"
    }
   ],
   "source": [
    "categorical_df.head()"
   ]
  },
  {
   "cell_type": "code",
   "execution_count": 58,
   "metadata": {},
   "outputs": [],
   "source": [
    "#Model fit with Train data check\n",
    "from sklearn.linear_model import LinearRegression"
   ]
  },
  {
   "cell_type": "code",
   "execution_count": 59,
   "metadata": {},
   "outputs": [],
   "source": [
    "train_X = pd.concat([numerical_df,categorical_df], axis=1)\n",
    "train_y = target"
   ]
  },
  {
   "cell_type": "code",
   "execution_count": 60,
   "metadata": {},
   "outputs": [
    {
     "data": {
      "text/plain": [
       "LinearRegression(copy_X=True, fit_intercept=True, n_jobs=None, normalize=False)"
      ]
     },
     "execution_count": 60,
     "metadata": {},
     "output_type": "execute_result"
    }
   ],
   "source": [
    "lr_model = LinearRegression()\n",
    "lr_model.fit(train_X, train_y)"
   ]
  },
  {
   "cell_type": "code",
   "execution_count": 61,
   "metadata": {},
   "outputs": [],
   "source": [
    "train_prediction = lr_model.predict(train_X)"
   ]
  },
  {
   "cell_type": "code",
   "execution_count": 62,
   "metadata": {},
   "outputs": [],
   "source": [
    "from sklearn.metrics import r2_score\n",
    "from sklearn.metrics import mean_squared_error"
   ]
  },
  {
   "cell_type": "code",
   "execution_count": 63,
   "metadata": {},
   "outputs": [
    {
     "name": "stdout",
     "output_type": "stream",
     "text": [
      "Train R2 Score :  0.8384209789675846\n",
      "Train Root Mean Squared Error :  32272.753461015283\n"
     ]
    }
   ],
   "source": [
    "train_r2_score = r2_score(train_y, train_prediction)\n",
    "train_mse = mean_squared_error(train_y, train_prediction)\n",
    "\n",
    "print(\"Train R2 Score : \", train_r2_score)\n",
    "print(\"Train Root Mean Squared Error : \", np.sqrt(train_mse))"
   ]
  },
  {
   "cell_type": "markdown",
   "metadata": {},
   "source": [
    "# Testing using Test Dataset"
   ]
  },
  {
   "cell_type": "code",
   "execution_count": 64,
   "metadata": {},
   "outputs": [
    {
     "data": {
      "text/plain": [
       "(292, 81)"
      ]
     },
     "execution_count": 64,
     "metadata": {},
     "output_type": "execute_result"
    }
   ],
   "source": [
    "test_set.shape"
   ]
  },
  {
   "cell_type": "markdown",
   "metadata": {},
   "source": [
    "## Performing EDA as in train for all features in test dataset"
   ]
  },
  {
   "cell_type": "code",
   "execution_count": 65,
   "metadata": {},
   "outputs": [],
   "source": [
    "test_set.drop(['Id'],axis=1,inplace=True)\n",
    "test_set.drop(labels=['Alley', 'Fence', 'FireplaceQu', 'MiscFeature', 'PoolQC'],axis=1,inplace=True)\n",
    "test_set.drop(labels=['Street', 'LandContour', 'Utilities', 'LandSlope', 'Condition1', 'Condition2', 'RoofMatl', \n",
    "                     'ExterCond', 'BsmtCond', 'BsmtFinType2', 'BsmtFinSF2', 'Heating', 'CentralAir', 'Electrical', \n",
    "                     'LowQualFinSF', 'BsmtHalfBath', 'KitchenAbvGr', 'Functional', 'GarageQual', 'GarageCond', \n",
    "                     'PavedDrive', 'EnclosedPorch', '3SsnPorch', 'ScreenPorch', 'PoolArea', 'MiscVal', \n",
    "                     'SaleType'], axis=1,inplace=True)"
   ]
  },
  {
   "cell_type": "code",
   "execution_count": 66,
   "metadata": {},
   "outputs": [],
   "source": [
    "target = pd.DataFrame(test_set['SalePrice'])"
   ]
  },
  {
   "cell_type": "code",
   "execution_count": 67,
   "metadata": {},
   "outputs": [],
   "source": [
    "independent_df = test_set.drop('SalePrice',axis=1)"
   ]
  },
  {
   "cell_type": "code",
   "execution_count": 68,
   "metadata": {},
   "outputs": [],
   "source": [
    "#EDA\n",
    "numerical_df = pd.DataFrame(independent_df.select_dtypes(exclude='object'))\n",
    "categorical_df = pd.DataFrame(independent_df.select_dtypes(include='object'))"
   ]
  },
  {
   "cell_type": "code",
   "execution_count": 69,
   "metadata": {},
   "outputs": [],
   "source": [
    "numerical_df['LotFrontage'].fillna(impute_value_LotFrontage,inplace=True)\n",
    "numerical_df['MasVnrArea'].fillna(impute_value_MasVnrArea,inplace=True)\n",
    "numerical_df['YearBuilt'].update(now.year - numerical_df['YearBuilt'])\n",
    "numerical_df['YearRemodAdd'].update(now.year - numerical_df['YearRemodAdd'])\n",
    "numerical_df['GarageYrBlt'].update(now.year - numerical_df['GarageYrBlt'])\n",
    "numerical_df['YrSold'].update(now.year - numerical_df['YrSold'])\n",
    "numerical_df['GarageYrBlt'].fillna(impute_value_GarageYrBlt,inplace=True)"
   ]
  },
  {
   "cell_type": "code",
   "execution_count": 70,
   "metadata": {},
   "outputs": [],
   "source": [
    "numerical_df = numerical_df[['OverallQual','YearBuilt','TotalBsmtSF','GrLivArea','GarageArea']]"
   ]
  },
  {
   "cell_type": "code",
   "execution_count": 71,
   "metadata": {},
   "outputs": [],
   "source": [
    "categorical_df['GarageType'].fillna(impute_value_Garage,inplace=True)\n",
    "categorical_df['GarageFinish'].fillna(impute_value_Garage,inplace=True)\n",
    "categorical_df['BsmtExposure'].fillna(impute_value_Basement,inplace=True)\n",
    "categorical_df['BsmtFinType1'].fillna(impute_value_Basement,inplace=True)\n",
    "categorical_df['BsmtQual'].fillna(impute_value_Basement,inplace=True)\n",
    "categorical_df['MasVnrType'].fillna(impute_value_MasVnrType,inplace=True)"
   ]
  },
  {
   "cell_type": "code",
   "execution_count": 72,
   "metadata": {},
   "outputs": [],
   "source": [
    "categorical_df.drop(labels=['BsmtFinType1', 'Exterior2nd', 'Exterior1st', 'HouseStyle', 'SaleCondition', 'LotConfig', \n",
    "                            'RoofStyle', 'Foundation', 'GarageType'],axis=1,inplace=True)"
   ]
  },
  {
   "cell_type": "code",
   "execution_count": 73,
   "metadata": {},
   "outputs": [],
   "source": [
    "convertCategorisToCodes(['ExterQual'],categorical_df)\n",
    "convertCategorisToCodes(['KitchenQual'],categorical_df)\n",
    "convertCategorisToCodes(['HeatingQC'],categorical_df)\n",
    "convertCategorisToCodes(['LotShape'],categorical_df)\n",
    "convertCategorisToCodes(['GarageFinish'],categorical_df)\n",
    "convertCategorisToCodes(['BsmtQual'],categorical_df)\n",
    "convertCategorisToCodes(['BsmtExposure'],categorical_df)"
   ]
  },
  {
   "cell_type": "code",
   "execution_count": 74,
   "metadata": {},
   "outputs": [],
   "source": [
    "for key_name in cat_list_dict2.keys():\n",
    "    categorical_df[key_name] = pd.Categorical(categorical_df[key_name], categories = cat_list_dict2[key_name])\n",
    "    categorical_df = pd.get_dummies(categorical_df, columns=[key_name], prefix=[key_name], drop_first=True)"
   ]
  },
  {
   "cell_type": "code",
   "execution_count": 75,
   "metadata": {},
   "outputs": [],
   "source": [
    "test_X = pd.concat([numerical_df,categorical_df], axis=1)\n",
    "test_y = target"
   ]
  },
  {
   "cell_type": "code",
   "execution_count": 76,
   "metadata": {},
   "outputs": [
    {
     "data": {
      "text/plain": [
       "array([ True,  True,  True,  True,  True,  True,  True,  True,  True,\n",
       "        True,  True,  True,  True,  True,  True,  True,  True,  True,\n",
       "        True,  True,  True,  True,  True,  True,  True,  True,  True,\n",
       "        True,  True,  True,  True,  True,  True,  True,  True,  True,\n",
       "        True,  True,  True,  True,  True,  True,  True,  True])"
      ]
     },
     "execution_count": 76,
     "metadata": {},
     "output_type": "execute_result"
    }
   ],
   "source": [
    "#Column Label Order Check\n",
    "train_X.columns == test_X.columns"
   ]
  },
  {
   "cell_type": "code",
   "execution_count": 77,
   "metadata": {},
   "outputs": [],
   "source": [
    "test_prediction = lr_model.predict(test_X)"
   ]
  },
  {
   "cell_type": "code",
   "execution_count": 78,
   "metadata": {},
   "outputs": [
    {
     "name": "stdout",
     "output_type": "stream",
     "text": [
      "TEST R2 Score :  0.8349863110986179\n",
      "TEST Root Mean Squared Error :  30717.585812056368\n"
     ]
    }
   ],
   "source": [
    "test_r2_score = r2_score(test_y, test_prediction)\n",
    "test_mse = mean_squared_error(test_y, test_prediction)\n",
    "\n",
    "print(\"TEST R2 Score : \", test_r2_score)\n",
    "print(\"TEST Root Mean Squared Error : \", np.sqrt(test_mse))"
   ]
  },
  {
   "cell_type": "code",
   "execution_count": 79,
   "metadata": {},
   "outputs": [],
   "source": [
    "def plot_learning_curves():\n",
    "    train_errors, test_errors = [], []\n",
    "    for m in range(1, len(train_X)):\n",
    "        lr_model.fit(train_X[:m], train_y[:m])\n",
    "        train_prediction = lr_model.predict(train_X[:m])\n",
    "        test_prediction = lr_model.predict(test_X)\n",
    "        train_errors.append(np.sqrt(mean_squared_error(train_prediction, train_y[:m])))\n",
    "        test_errors.append(np.sqrt(mean_squared_error(test_prediction, test_y)))\n",
    "\n",
    "    plt.plot(np.sqrt(train_errors), \"r-+\", linewidth=2, label=\"train\")\n",
    "    plt.plot(np.sqrt(test_errors), \"b-\", linewidth=3, label=\"test\")\n",
    "    plt.legend(loc=\"upper right\", fontsize=14)   \n",
    "    plt.xlabel(\"Training set size\", fontsize=14) \n",
    "    plt.ylabel(\"RMSE\", fontsize=14)"
   ]
  },
  {
   "cell_type": "code",
   "execution_count": 80,
   "metadata": {},
   "outputs": [
    {
     "data": {
      "image/png": "[encoded data removed]",
      "text/plain": [
       "<Figure size 432x288 with 1 Axes>"
      ]
     },
     "metadata": {
      "needs_background": "light"
     },
     "output_type": "display_data"
    }
   ],
   "source": [
    "plot_learning_curves()"
   ]
  },
  {
   "cell_type": "code",
   "execution_count": null,
   "metadata": {},
   "outputs": [],
   "source": []
  }
 ],
 "metadata": {
  "kernelspec": {
   "display_name": "Python 3",
   "language": "python",
   "name": "python3"
  },
  "language_info": {
   "codemirror_mode": {
    "name": "ipython",
    "version": 3
   },
   "file_extension": ".py",
   "mimetype": "text/x-python",
   "name": "python",
   "nbconvert_exporter": "python",
   "pygments_lexer": "ipython3",
   "version": "3.8.8"
  }
 },
 "nbformat": 4,
 "nbformat_minor": 4
}
